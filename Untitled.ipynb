{
 "cells": [
  {
   "cell_type": "code",
   "execution_count": null,
   "metadata": {},
   "outputs": [],
   "source": []
  },
  {
   "cell_type": "code",
   "execution_count": null,
   "metadata": {},
   "outputs": [],
   "source": [
    "def get_parking(soup):\n",
    "    all_text = soup.text.lower()\n",
    "    parking = ''\n",
    "    #check if the number of parking spaces is listed in standard field\n",
    "    parking_index_standard_field = all_text.find('num of parking spaces')\n",
    "    idx_num_parking_spaces = parking_index_standard_field + len('num of parking spaces')\n",
    "    \n",
    "    parking = 'parking_unknown'\n",
    "    \n",
    "    if parking_index_standard_field >= 0:\n",
    "        try:\n",
    "            if int(all_text[idx_num_parking_spaces]) > 0:\n",
    "                parking = 'parking'\n",
    "            else:\n",
    "                parking = 'no_parking'\n",
    "        except ValueError:\n",
    "            pass\n",
    "            parking = 'parking_unknown'\n",
    "    \n",
    "    snippet = all_text[all_text.find('parking')-10:\n",
    "                                   all_text.find('parking')+30]\n",
    "    \n",
    "    return [parking, snippet]"
   ]
  }
 ],
 "metadata": {
  "kernelspec": {
   "display_name": "Python 3",
   "language": "python",
   "name": "python3"
  },
  "language_info": {
   "codemirror_mode": {
    "name": "ipython",
    "version": 3
   },
   "file_extension": ".py",
   "mimetype": "text/x-python",
   "name": "python",
   "nbconvert_exporter": "python",
   "pygments_lexer": "ipython3",
   "version": "3.8.5"
  }
 },
 "nbformat": 4,
 "nbformat_minor": 4
}

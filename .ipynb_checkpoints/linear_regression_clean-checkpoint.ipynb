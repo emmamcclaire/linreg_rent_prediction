{
 "cells": [
  {
   "cell_type": "code",
   "execution_count": 1,
   "metadata": {},
   "outputs": [],
   "source": [
    "import pandas as pd\n",
    "import numpy as np\n",
    "import pickle\n",
    "\n",
    "import seaborn as sns\n",
    "import matplotlib.pyplot as plt\n",
    "from sklearn.linear_model import LinearRegression\n",
    "from sklearn.linear_model import RidgeCV\n",
    "from sklearn.metrics import mean_squared_error, r2_score\n",
    "from sklearn.preprocessing import OneHotEncoder, StandardScaler\n",
    "from sklearn.model_selection import train_test_split, KFold, cross_val_score\n",
    "from sklearn.pipeline import Pipeline\n",
    "%matplotlib inline"
   ]
  },
  {
   "cell_type": "code",
   "execution_count": 2,
   "metadata": {},
   "outputs": [],
   "source": [
    "def ohe_the_df(dataframe):\n",
    "    \n",
    "    num_feats = ['beds', 'sq_footage', 'year_built',\n",
    "                   'has_address_2', 'baths_incl_half', 'walk_score']\n",
    "    cat_feats = ['city', 'parking_spots', 'clean_mls_types', 'laundry_type']\n",
    "\n",
    "    num_feats_df = dataframe[num_feats]\n",
    "    cat_feats_df = dataframe[cat_feats]\n",
    "    \n",
    "    ohe_X = ohe.transform(cat_feats_df)\n",
    "    feature_labels = ohe.get_feature_names(cat_feats)\n",
    "    cat_feats_ohe = pd.DataFrame(data = ohe_X, \n",
    "                                 columns=feature_labels,\n",
    "                                index = num_feats_df.index)\n",
    "    combined_dataframe = pd.concat([num_feats_df, cat_feats_ohe], axis = 1)\n",
    "    return combined_dataframe\n",
    "\n",
    "def get_cv_r2s(model, X, y):\n",
    "    cv_r2s = cross_val_score(model, X, y, cv=5, scoring = 'r2')\n",
    "    print('Scores: ', cv_r2s, '\\n')\n",
    "    print(f'Simple mean cv r^2: {np.mean(cv_r2s):.3f} +- {np.std(cv_r2s):.3f}')"
   ]
  },
  {
   "cell_type": "code",
   "execution_count": 29,
   "metadata": {},
   "outputs": [],
   "source": [
    "with open('pickles/cleaned_210115_data_laundry_revised_add_ws.pickle', 'rb') as read_file:\n",
    "    df = pickle.load(read_file)"
   ]
  },
  {
   "cell_type": "markdown",
   "metadata": {},
   "source": [
    "**Model Constraint: units must be under 3100 sq. feet to be evaluated using this model**"
   ]
  },
  {
   "cell_type": "code",
   "execution_count": 30,
   "metadata": {},
   "outputs": [
    {
     "name": "stdout",
     "output_type": "stream",
     "text": [
      "40 datapoints dropped\n"
     ]
    }
   ],
   "source": [
    "dp_before = df.shape[0]\n",
    "df = df[df.sq_footage <= 3100].reset_index()\n",
    "dp_after = df.shape[0]\n",
    "print(dp_before - dp_after, 'datapoints dropped')"
   ]
  },
  {
   "cell_type": "code",
   "execution_count": 31,
   "metadata": {},
   "outputs": [],
   "source": [
    "X_all = df[['city',\n",
    "       'beds', 'sq_footage', 'year_built', 'laundry_type',\n",
    "       'parking_spots', 'has_address_2', 'baths_incl_half',\n",
    "       'clean_mls_types', 'walk_score']]\n",
    "\n",
    "y_all = df['price']\n",
    "\n",
    "# train/test split\n",
    "X, X_test, y, y_test = train_test_split(X_all, y_all, test_size = 0.2, random_state = 25)"
   ]
  },
  {
   "cell_type": "code",
   "execution_count": 32,
   "metadata": {},
   "outputs": [
    {
     "data": {
      "text/plain": [
       "OneHotEncoder(categories='auto', drop=None, dtype=<class 'numpy.float64'>,\n",
       "              handle_unknown='ignore', sparse=False)"
      ]
     },
     "execution_count": 32,
     "metadata": {},
     "output_type": "execute_result"
    }
   ],
   "source": [
    "# fit the ohe\n",
    "\n",
    "num_feats = ['beds', 'sq_footage', 'year_built',\n",
    "                   'has_address_2', 'baths_incl_half', 'walk_score']\n",
    "cat_feats = ['city', 'parking_spots', 'clean_mls_types', 'laundry_type']\n",
    "\n",
    "num_feats_df = X[num_feats]\n",
    "cat_feats_df = X[cat_feats]\n",
    "\n",
    "ohe = OneHotEncoder(sparse=False, handle_unknown = 'ignore')\n",
    "ohe.fit(cat_feats_df)"
   ]
  },
  {
   "cell_type": "markdown",
   "metadata": {},
   "source": [
    "---\n",
    "\n",
    "**model 1: simple linear regression**\n",
    "    \n",
    "---"
   ]
  },
  {
   "cell_type": "code",
   "execution_count": 33,
   "metadata": {},
   "outputs": [
    {
     "name": "stdout",
     "output_type": "stream",
     "text": [
      "Scores:  [0.66712646 0.69126022 0.5841167  0.60933754 0.63753337] \n",
      "\n",
      "Simple mean cv r^2: 0.638 +- 0.038\n",
      "None\n"
     ]
    },
    {
     "data": {
      "text/plain": [
       "LinearRegression(copy_X=True, fit_intercept=True, n_jobs=None, normalize=False)"
      ]
     },
     "execution_count": 33,
     "metadata": {},
     "output_type": "execute_result"
    }
   ],
   "source": [
    "def m1_premod(X):  \n",
    "    X_ohe = ohe_the_df(X)\n",
    "    return X_ohe\n",
    "\n",
    "lr_m1 = LinearRegression()\n",
    "\n",
    "print(get_cv_r2s(lr_m1, m1_premod(X), y))\n",
    "\n",
    "lr_m1.fit(m1_premod(X), y)"
   ]
  },
  {
   "cell_type": "code",
   "execution_count": 34,
   "metadata": {},
   "outputs": [
    {
     "data": {
      "text/plain": [
       "Index(['beds', 'sq_footage', 'year_built', 'has_address_2', 'baths_incl_half',\n",
       "       'walk_score', 'city_Alameda', 'city_Albany', 'city_Atherton',\n",
       "       'city_Belmont', 'city_Berkeley', 'city_Brisbane', 'city_Burlingame',\n",
       "       'city_Campbell', 'city_Castro Valley', 'city_Cupertino',\n",
       "       'city_Daly City', 'city_Dublin', 'city_East Palo Alto',\n",
       "       'city_Emeryville', 'city_Foster City', 'city_Fremont', 'city_Gilroy',\n",
       "       'city_Half Moon Bay', 'city_Hayward', 'city_Hillsborough',\n",
       "       'city_La Honda', 'city_Livermore', 'city_Los Altos', 'city_Los Gatos',\n",
       "       'city_Menlo Park', 'city_Millbrae', 'city_Milpitas', 'city_Morgan Hill',\n",
       "       'city_Mountain View', 'city_Newark', 'city_Oakland', 'city_Pacifica',\n",
       "       'city_Palo Alto', 'city_Piedmont', 'city_Pleasanton',\n",
       "       'city_Portola Valley', 'city_Redwood City', 'city_San Bruno',\n",
       "       'city_San Carlos', 'city_San Francisco', 'city_San Jose',\n",
       "       'city_San Leandro', 'city_San Mateo', 'city_Santa Clara',\n",
       "       'city_Saratoga', 'city_South San Francisco', 'city_Sunnyvale',\n",
       "       'city_Union City', 'city_Woodside', 'parking_spots_no_parking',\n",
       "       'parking_spots_parking', 'parking_spots_parking_unknown',\n",
       "       'clean_mls_types_apartment', 'clean_mls_types_condo',\n",
       "       'clean_mls_types_detached', 'clean_mls_types_duplex',\n",
       "       'clean_mls_types_house', 'clean_mls_types_other',\n",
       "       'clean_mls_types_other rental property',\n",
       "       'clean_mls_types_single-family', 'clean_mls_types_townhouse',\n",
       "       'laundry_type_hookups_only', 'laundry_type_laundry_avail',\n",
       "       'laundry_type_laundry_unknown', 'laundry_type_no_laundry'],\n",
       "      dtype='object')"
      ]
     },
     "execution_count": 34,
     "metadata": {},
     "output_type": "execute_result"
    }
   ],
   "source": [
    "m1_premod(X).columns"
   ]
  },
  {
   "cell_type": "code",
   "execution_count": 35,
   "metadata": {},
   "outputs": [
    {
     "name": "stdout",
     "output_type": "stream",
     "text": [
      "('beds', 46.29684686926407)\n",
      "('sq_footage', 1.8438817907545078)\n",
      "('year_built', -1.1448672853016575)\n",
      "('has_address_2', 41.365209139859914)\n",
      "('baths_incl_half', 631.6025294998827)\n",
      "('walk_score', 4.292703835813256)\n",
      "('city_Alameda', -1267.516705602226)\n",
      "('city_Albany', -429.16055338696503)\n",
      "('city_Atherton', 211.93386562512137)\n",
      "('city_Belmont', 406.7310473542459)\n",
      "('city_Berkeley', 255.13692191054386)\n",
      "('city_Brisbane', -135.9692218847968)\n",
      "('city_Burlingame', -210.25645907121728)\n",
      "('city_Campbell', -227.46374652384668)\n",
      "('city_Castro Valley', 688.4399608174303)\n",
      "('city_Cupertino', -508.12258559602907)\n",
      "('city_Daly City', -164.2892958828616)\n",
      "('city_Dublin', -1329.1698677620054)\n",
      "('city_East Palo Alto', -581.3744454573671)\n",
      "('city_Emeryville', -117.88972802956351)\n",
      "('city_Foster City', -187.9848036117106)\n",
      "('city_Fremont', -489.0381855586327)\n",
      "('city_Gilroy', -782.5132736413474)\n",
      "('city_Half Moon Bay', 880.0799363518784)\n",
      "('city_Hayward', -1164.9077882391161)\n",
      "('city_Hillsborough', 1172.7918552696603)\n",
      "('city_La Honda', 449.7658223983549)\n",
      "('city_Livermore', -621.8510998401965)\n",
      "('city_Los Altos', 767.0720362686529)\n",
      "('city_Los Gatos', 515.5475050744941)\n",
      "('city_Menlo Park', 930.9633849428402)\n",
      "('city_Millbrae', -246.10985854783928)\n",
      "('city_Milpitas', 348.6259399885482)\n",
      "('city_Morgan Hill', -188.9971837548706)\n",
      "('city_Mountain View', -13.010691212984057)\n",
      "('city_Newark', -921.7765015923625)\n",
      "('city_Oakland', -324.7886896972201)\n",
      "('city_Pacifica', -611.9303537580272)\n",
      "('city_Palo Alto', 758.097383375534)\n",
      "('city_Piedmont', 1535.2446485798723)\n",
      "('city_Pleasanton', -406.07892303666927)\n",
      "('city_Portola Valley', 461.0487079535344)\n",
      "('city_Redwood City', -34.20823777496349)\n",
      "('city_San Bruno', 397.4725721799249)\n",
      "('city_San Carlos', 322.37634444832474)\n",
      "('city_San Francisco', 744.7818145419828)\n",
      "('city_San Jose', -472.5688726220369)\n",
      "('city_San Leandro', -1203.0062863031078)\n",
      "('city_San Mateo', -139.37652049524806)\n",
      "('city_Santa Clara', -295.3844986514016)\n",
      "('city_Saratoga', 287.0118862926029)\n",
      "('city_South San Francisco', 139.17641112268828)\n",
      "('city_Sunnyvale', -490.9958232238399)\n",
      "('city_Union City', -107.85228611221723)\n",
      "('city_Woodside', 2401.2944423751683)\n",
      "('parking_spots_no_parking', -246.96253791039234)\n",
      "('parking_spots_parking', 151.0327727178111)\n",
      "('parking_spots_parking_unknown', 95.92976519310464)\n",
      "('clean_mls_types_apartment', 263.4791519007633)\n",
      "('clean_mls_types_condo', -132.5033446871467)\n",
      "('clean_mls_types_detached', 176.26558963558165)\n",
      "('clean_mls_types_duplex', -751.333460156636)\n",
      "('clean_mls_types_house', 348.16696372872036)\n",
      "('clean_mls_types_other', 191.89913188982578)\n",
      "('clean_mls_types_other rental property', 276.6815311079905)\n",
      "('clean_mls_types_single-family', 4.6551375416078145)\n",
      "('clean_mls_types_townhouse', -377.3107009589218)\n",
      "('laundry_type_hookups_only', -215.03555681356505)\n",
      "('laundry_type_laundry_avail', 59.17461247217483)\n",
      "('laundry_type_laundry_unknown', 93.49090612837199)\n",
      "('laundry_type_no_laundry', 62.37003821318021)\n"
     ]
    }
   ],
   "source": [
    "coefs = zip(m1_premod(X).columns, lr_m1.coef_)\n",
    "for i in coefs:\n",
    "    print(i)"
   ]
  },
  {
   "cell_type": "markdown",
   "metadata": {},
   "source": [
    "---\n",
    "\n",
    "**model 2: feature engineering v1**\n",
    "\n",
    "---"
   ]
  },
  {
   "cell_type": "code",
   "execution_count": 36,
   "metadata": {},
   "outputs": [
    {
     "name": "stdout",
     "output_type": "stream",
     "text": [
      "Scores:  [0.66286909 0.72460829 0.59961024 0.62995196 0.66705125] \n",
      "\n",
      "Simple mean cv r^2: 0.657 +- 0.042\n",
      "None\n"
     ]
    },
    {
     "data": {
      "text/plain": [
       "LinearRegression(copy_X=True, fit_intercept=True, n_jobs=None, normalize=False)"
      ]
     },
     "execution_count": 36,
     "metadata": {},
     "output_type": "execute_result"
    }
   ],
   "source": [
    "def m2_premod(X):    \n",
    "    X_ohe = ohe_the_df(X)\n",
    "    X_eng = X_ohe.copy()\n",
    "    \n",
    "    X_eng['walk_score_sq_footage'] = X_ohe['walk_score']*X_ohe['sq_footage']\n",
    "    X_eng['walk_score_year_built'] = X_ohe['walk_score']*X_ohe['year_built']\n",
    "    X_eng['mls_type_year_built'] = X_ohe['clean_mls_types_house']*X_ohe['year_built']\n",
    "    X_eng['beds_baths'] = X_ohe['beds']*X_ohe['baths_incl_half']\n",
    "    \n",
    "   \n",
    "    \n",
    "    return X_eng\n",
    "\n",
    "lr_m2 = LinearRegression()\n",
    "\n",
    "print(get_cv_r2s(lr_m2, m2_premod(X), y))\n",
    "\n",
    "lr_m2.fit(m2_premod(X), y)"
   ]
  },
  {
   "cell_type": "markdown",
   "metadata": {},
   "source": [
    "---\n",
    "\n",
    "**model 3: feature engineering v2**\n",
    "    \n",
    "---"
   ]
  },
  {
   "cell_type": "code",
   "execution_count": 37,
   "metadata": {},
   "outputs": [
    {
     "name": "stdout",
     "output_type": "stream",
     "text": [
      "Scores:  [0.65954506 0.72316851 0.60717657 0.65136845 0.67807882] \n",
      "\n",
      "Simple mean cv r^2: 0.664 +- 0.038\n",
      "None\n"
     ]
    },
    {
     "data": {
      "text/plain": [
       "LinearRegression(copy_X=True, fit_intercept=True, n_jobs=None, normalize=False)"
      ]
     },
     "execution_count": 37,
     "metadata": {},
     "output_type": "execute_result"
    }
   ],
   "source": [
    "def m3_premod(X):\n",
    "    X_ohe = ohe_the_df(X)\n",
    "    X_eng = X_ohe.copy()\n",
    "    \n",
    "    X_eng['walk_score_sq_footage'] = X_ohe['walk_score']*X_ohe['sq_footage']\n",
    "    X_eng['walk_score_year_built'] = X_ohe['walk_score']*X_ohe['year_built']\n",
    "    X_eng['mls_type_year_built'] = X_ohe['clean_mls_types_house']*X_ohe['year_built']\n",
    "    X_eng['beds_baths'] = X_ohe['beds']*X_ohe['baths_incl_half']\n",
    "    \n",
    "    X_eng['beds_walk_score'] = X_ohe['walk_score']*X_ohe['beds']\n",
    "    X_eng['address_2_walk_score'] = X_ohe['walk_score']*X_ohe['has_address_2']\n",
    "    X_eng['year_built_address_2'] = X_ohe['year_built']*X_ohe['has_address_2']\n",
    "    \n",
    "    return X_eng\n",
    "\n",
    "lr_m3 = LinearRegression()\n",
    "\n",
    "print(get_cv_r2s(lr_m3, m3_premod(X), y))\n",
    "\n",
    "lr_m3.fit(m3_premod(X), y)"
   ]
  },
  {
   "cell_type": "markdown",
   "metadata": {},
   "source": [
    "---\n",
    "\n",
    "**model 4: feature engineering v3**\n",
    "\n",
    "---"
   ]
  },
  {
   "cell_type": "code",
   "execution_count": 38,
   "metadata": {},
   "outputs": [
    {
     "name": "stdout",
     "output_type": "stream",
     "text": [
      "Scores:  [0.66133568 0.7263213  0.60932311 0.64955064 0.67502474] \n",
      "\n",
      "Simple mean cv r^2: 0.664 +- 0.038\n",
      "None\n"
     ]
    },
    {
     "data": {
      "text/plain": [
       "LinearRegression(copy_X=True, fit_intercept=True, n_jobs=None, normalize=False)"
      ]
     },
     "execution_count": 38,
     "metadata": {},
     "output_type": "execute_result"
    }
   ],
   "source": [
    "def m4_premod(X):\n",
    "    X_ohe = ohe_the_df(X)\n",
    "    X_eng = X_ohe.copy()\n",
    "    \n",
    "    X_eng['walk_score_sq_footage'] = X_ohe['walk_score']*X_ohe['sq_footage']\n",
    "    X_eng['walk_score_year_built'] = X_ohe['walk_score']*X_ohe['year_built']\n",
    "    X_eng['mls_type_year_built'] = X_ohe['clean_mls_types_house']*X_ohe['year_built']\n",
    "    X_eng['beds_baths'] = X_ohe['beds']*X_ohe['baths_incl_half']\n",
    "    \n",
    "    X_eng['beds_walk_score'] = X_ohe['walk_score']*X_ohe['beds']\n",
    "    X_eng['address_2_walk_score'] = X_ohe['walk_score']*X_ohe['has_address_2']\n",
    "    X_eng['year_built_address_2'] = X_ohe['year_built']*X_ohe['has_address_2']\n",
    "    \n",
    "    X_eng['walk_score_walk_score'] = X_ohe['walk_score']**3\n",
    "    \n",
    "    '''\n",
    "    the below features were tested, but reduced the R^2\n",
    "    '''\n",
    "    # X_eng['walk_score_walk_score'] = X_ohe['walk_score']**2\n",
    "    # X_eng['beds_beds_beds'] = X_ohe['beds']**3\n",
    "    # X_eng['beds_beds_beds'] = X_ohe['beds']**3\n",
    "    \n",
    "    \n",
    "    \n",
    "    return X_eng\n",
    "\n",
    "lr_m4 = LinearRegression()\n",
    "    \n",
    "print(get_cv_r2s(lr_m4, m4_premod(X), y))\n",
    "\n",
    "lr_m4.fit(m4_premod(X), y)"
   ]
  },
  {
   "cell_type": "markdown",
   "metadata": {},
   "source": [
    "---\n",
    "\n",
    "**model 5: consolidate mls_types**\n",
    "\n",
    "---"
   ]
  },
  {
   "cell_type": "code",
   "execution_count": 48,
   "metadata": {},
   "outputs": [
    {
     "name": "stdout",
     "output_type": "stream",
     "text": [
      "Scores:  [0.66633396 0.72537886 0.60855783 0.65733205 0.67192336] \n",
      "\n",
      "Simple mean cv r^2: 0.666 +- 0.037\n",
      "None\n"
     ]
    },
    {
     "data": {
      "text/plain": [
       "LinearRegression(copy_X=True, fit_intercept=True, n_jobs=None, normalize=False)"
      ]
     },
     "execution_count": 48,
     "metadata": {},
     "output_type": "execute_result"
    }
   ],
   "source": [
    "def m5_premod(X):\n",
    "    '''\n",
    "    consolidate some of the mls_type columns with the hope of making fewer,  \n",
    "    but stronger mls_type features\n",
    "    '''\n",
    "    X_ohe = ohe_the_df(X)\n",
    "    X_eng = X_ohe.copy()\n",
    "    \n",
    "    X_eng['walk_score_sq_footage'] = X_ohe['walk_score']*X_ohe['sq_footage']\n",
    "    X_eng['walk_score_year_built'] = X_ohe['walk_score']*X_ohe['year_built']\n",
    "    X_eng['mls_type_year_built'] = X_ohe['clean_mls_types_house']*X_ohe['year_built']\n",
    "    X_eng['beds_baths'] = X_ohe['beds']*X_ohe['baths_incl_half']\n",
    "    \n",
    "    X_eng['beds_walk_score'] = X_ohe['walk_score']*X_ohe['beds']\n",
    "    X_eng['address_2_walk_score'] = X_ohe['walk_score']*X_ohe['has_address_2']\n",
    "    X_eng['year_built_address_2'] = X_ohe['year_built']*X_ohe['has_address_2']\n",
    "    \n",
    "    X_eng['walk_score_walk_score'] = X_ohe['walk_score']**3\n",
    "    \n",
    "    ''''''\n",
    "    \n",
    "    X_eng['clean_mls_types_house'] = X_ohe['clean_mls_types_house']\n",
    "    + X_ohe['clean_mls_types_single-family']\n",
    "    X_eng['clean_mls_types_condo'] = X_ohe['clean_mls_types_condo']\n",
    "    + X_ohe['clean_mls_types_duplex'] + X_ohe['clean_mls_types_townhouse']\n",
    "    X_eng['clean_mls_types_other'] = X_ohe['clean_mls_types_other'] \n",
    "    + X_ohe['clean_mls_types_other rental property']\n",
    "    \n",
    "    X_eng = X_eng.drop(['clean_mls_types_single-family',\n",
    "                        'clean_mls_types_duplex',\n",
    "                        'clean_mls_types_townhouse',\n",
    "                        'clean_mls_types_other rental property'\n",
    "                       ], axis = 1)\n",
    "    \n",
    "    return X_eng\n",
    "\n",
    "lr_m5 = LinearRegression()\n",
    "\n",
    "print(get_cv_r2s(lr_m5, m5_premod(X), y))\n",
    "\n",
    "lr_m5.fit(m5_premod(X), y)"
   ]
  },
  {
   "cell_type": "code",
   "execution_count": 49,
   "metadata": {},
   "outputs": [
    {
     "data": {
      "text/plain": [
       "75"
      ]
     },
     "execution_count": 49,
     "metadata": {},
     "output_type": "execute_result"
    }
   ],
   "source": [
    "len(m5_premod(X).columns)"
   ]
  },
  {
   "cell_type": "markdown",
   "metadata": {},
   "source": [
    "---\n",
    "\n",
    "**model 6: use model 5's preprocessing, but use lassoCV instead**\n",
    "\n",
    "---"
   ]
  },
  {
   "cell_type": "code",
   "execution_count": 50,
   "metadata": {},
   "outputs": [],
   "source": [
    "from sklearn.model_selection import train_test_split\n",
    "from sklearn.linear_model import LinearRegression, Lasso, LassoCV, Ridge, RidgeCV\n",
    "from sklearn.metrics import r2_score"
   ]
  },
  {
   "cell_type": "code",
   "execution_count": 51,
   "metadata": {},
   "outputs": [],
   "source": [
    "m6_X_tr = m5_premod(X)"
   ]
  },
  {
   "cell_type": "code",
   "execution_count": 52,
   "metadata": {},
   "outputs": [
    {
     "data": {
      "text/plain": [
       "StandardScaler(copy=True, with_mean=True, with_std=True)"
      ]
     },
     "execution_count": 52,
     "metadata": {},
     "output_type": "execute_result"
    }
   ],
   "source": [
    "s_m6 = StandardScaler()\n",
    "s_m6.fit(m6_X_tr.values)"
   ]
  },
  {
   "cell_type": "code",
   "execution_count": 53,
   "metadata": {},
   "outputs": [],
   "source": [
    "m6_X_tr = s_m6.transform(m6_X_tr.values)\n",
    "m6_X_te = s_m6.transform(m5_premod(X_test).values)"
   ]
  },
  {
   "cell_type": "code",
   "execution_count": 54,
   "metadata": {},
   "outputs": [
    {
     "data": {
      "text/plain": [
       "RidgeCV(alphas=array([1.00000000e-02, 1.04737090e-02, 1.09698580e-02, 1.14895100e-02,\n",
       "       1.20337784e-02, 1.26038293e-02, 1.32008840e-02, 1.38262217e-02,\n",
       "       1.44811823e-02, 1.51671689e-02, 1.58856513e-02, 1.66381689e-02,\n",
       "       1.74263339e-02, 1.82518349e-02, 1.91164408e-02, 2.00220037e-02,\n",
       "       2.09704640e-02, 2.19638537e-02, 2.30043012e-02, 2.40940356e-02,\n",
       "       2.52353917e-02, 2.64308149e-0...\n",
       "       4.15040476e+01, 4.34701316e+01, 4.55293507e+01, 4.76861170e+01,\n",
       "       4.99450512e+01, 5.23109931e+01, 5.47890118e+01, 5.73844165e+01,\n",
       "       6.01027678e+01, 6.29498899e+01, 6.59318827e+01, 6.90551352e+01,\n",
       "       7.23263390e+01, 7.57525026e+01, 7.93409667e+01, 8.30994195e+01,\n",
       "       8.70359136e+01, 9.11588830e+01, 9.54771611e+01, 1.00000000e+02]),\n",
       "        cv=5, fit_intercept=True, gcv_mode=None, normalize=False, scoring=None,\n",
       "        store_cv_values=False)"
      ]
     },
     "execution_count": 54,
     "metadata": {},
     "output_type": "execute_result"
    }
   ],
   "source": [
    "alphavec = 10**np.linspace(-2,2,200)\n",
    "\n",
    "ridge_m6 = RidgeCV(alphas = alphavec, cv=5)\n",
    "ridge_m6.fit(m6_X_tr, y)"
   ]
  },
  {
   "cell_type": "code",
   "execution_count": 56,
   "metadata": {},
   "outputs": [
    {
     "data": {
      "text/plain": [
       "0.03827494478516311"
      ]
     },
     "execution_count": 56,
     "metadata": {},
     "output_type": "execute_result"
    }
   ],
   "source": [
    "ridge_m6.alpha_"
   ]
  },
  {
   "cell_type": "code",
   "execution_count": 57,
   "metadata": {},
   "outputs": [
    {
     "name": "stdout",
     "output_type": "stream",
     "text": [
      "rmse:  1005.1507743686847\n",
      "r2:  0.6729348058370268\n"
     ]
    }
   ],
   "source": [
    "predicted_y_values = ridge_m6.predict(m6_X_te)\n",
    "\n",
    "print('rmse: ', np.sqrt(mean_squared_error(y_test, predicted_y_values)))\n",
    "print('r2: ', r2_score(y_test, predicted_y_values))"
   ]
  },
  {
   "cell_type": "code",
   "execution_count": null,
   "metadata": {},
   "outputs": [],
   "source": []
  }
 ],
 "metadata": {
  "kernelspec": {
   "display_name": "Python 3",
   "language": "python",
   "name": "python3"
  },
  "language_info": {
   "codemirror_mode": {
    "name": "ipython",
    "version": 3
   },
   "file_extension": ".py",
   "mimetype": "text/x-python",
   "name": "python",
   "nbconvert_exporter": "python",
   "pygments_lexer": "ipython3",
   "version": "3.8.5"
  }
 },
 "nbformat": 4,
 "nbformat_minor": 4
}

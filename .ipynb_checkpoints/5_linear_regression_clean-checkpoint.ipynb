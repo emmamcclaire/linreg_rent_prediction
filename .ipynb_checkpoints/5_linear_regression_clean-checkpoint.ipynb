{
 "cells": [
  {
   "cell_type": "code",
   "execution_count": 200,
   "metadata": {},
   "outputs": [],
   "source": [
    "import pandas as pd\n",
    "import numpy as np\n",
    "import pickle\n",
    "\n",
    "import seaborn as sns\n",
    "import matplotlib.pyplot as plt\n",
    "from sklearn.linear_model import LinearRegression\n",
    "from sklearn.linear_model import RidgeCV\n",
    "from sklearn.metrics import mean_squared_error, r2_score\n",
    "from sklearn.preprocessing import OneHotEncoder, StandardScaler\n",
    "from sklearn.model_selection import train_test_split, KFold, cross_val_score\n",
    "from sklearn.pipeline import Pipeline\n",
    "%matplotlib inline"
   ]
  },
  {
   "cell_type": "code",
   "execution_count": 201,
   "metadata": {},
   "outputs": [],
   "source": [
    "def ohe_the_df(dataframe):\n",
    "    \n",
    "    num_feats = ['beds', 'sq_footage', 'year_built',\n",
    "                   'has_address_2', 'baths_incl_half', 'walk_score']\n",
    "    cat_feats = ['city', 'parking_spots', 'clean_mls_types', 'laundry_type']\n",
    "\n",
    "    num_feats_df = dataframe[num_feats]\n",
    "    cat_feats_df = dataframe[cat_feats]\n",
    "    \n",
    "    ohe_X = ohe.transform(cat_feats_df)\n",
    "    feature_labels = ohe.get_feature_names(cat_feats)\n",
    "    cat_feats_ohe = pd.DataFrame(data = ohe_X, \n",
    "                                 columns=feature_labels,\n",
    "                                index = num_feats_df.index)\n",
    "    combined_dataframe = pd.concat([num_feats_df, cat_feats_ohe], axis = 1)\n",
    "    return combined_dataframe\n",
    "\n",
    "def get_cv_r2s_test(model, X, y):\n",
    "    cv_r2s = cross_val_score(model, X, y, cv=5, scoring = 'r2')\n",
    "    mean_r2 = np.mean(cv_r2s)\n",
    "    return mean_r2\n",
    "\n",
    "def get_cv_r2s(model, X, y):\n",
    "    cv_r2s = cross_val_score(model, X, y, cv=5, scoring = 'r2')\n",
    "    print('Scores: ', cv_r2s, '\\n')\n",
    "    print(f'Simple mean cv r^2: {np.mean(cv_r2s):.3f} +- {np.std(cv_r2s):.3f}')"
   ]
  },
  {
   "cell_type": "code",
   "execution_count": 251,
   "metadata": {},
   "outputs": [],
   "source": [
    "with open('pickles/cleaned_210115_data_laundry_revised_add_ws.pickle', 'rb') as read_file:\n",
    "    df = pickle.load(read_file)"
   ]
  },
  {
   "cell_type": "markdown",
   "metadata": {},
   "source": [
    "---\n",
    "---\n",
    "\n",
    "**Model Constraint: based on the analysis below, rental units must be under 3100* sq. feet to be evaluated using this model**\n",
    "\n",
    "---\n",
    "---\n",
    "\n",
    "The ideal square footage cutoff was evaluated below by testing a series of subsets of the original df against a basic linear regression using only numerical features. The original method used the R^2 of all training data and the revised method uses the 5-fold CV mean R^2. Both methods give the same result of 3100 sq. feet as the ideal maximum, although the pattern is less obvious using the revised method.\n",
    "\n",
    "---"
   ]
  },
  {
   "cell_type": "code",
   "execution_count": 254,
   "metadata": {},
   "outputs": [
    {
     "name": "stdout",
     "output_type": "stream",
     "text": [
      "max_score:  0.5833056426295828 \n",
      "filter: df[df.sq_footage < 3100 ]\n"
     ]
    }
   ],
   "source": [
    "sq_max_ls = []\n",
    "score_ls = []\n",
    "df_len = []\n",
    "max_score = [0, 0]\n",
    "for sq_max in range(1000, 6000, 300):  \n",
    "    sq_max_ls.append(sq_max)\n",
    "    df_sq = df[df.sq_footage < sq_max]\n",
    "    \n",
    "    X = df_sq[['beds', 'sq_footage', 'year_built',\n",
    "                   'has_address_2', 'baths_incl_half', 'walk_score']]\n",
    "    y = df_sq['price']\n",
    "    \n",
    "    X_train, X_test, y_train, y_test = train_test_split(X, y, test_size = 0.2, random_state = 25)\n",
    "    \n",
    "    lr = LinearRegression()\n",
    "    lr.fit(X_train, y_train)\n",
    "    score = lr.score(X_train, y_train)\n",
    "    score_ls.append(score)\n",
    "    df_len.append(df_sq.shape[0])\n",
    "    if score > max_score[0]:\n",
    "        max_score = [score, sq_max]\n",
    "print('max_score: ', max_score[0], '\\nfilter: df[df.sq_footage <', max_score[1],']')"
   ]
  },
  {
   "cell_type": "code",
   "execution_count": 255,
   "metadata": {},
   "outputs": [
    {
     "data": {
      "image/png": "[encoded data removed]",
      "text/plain": [
       "<Figure size 720x504 with 1 Axes>"
      ]
     },
     "metadata": {
      "needs_background": "dark"
     },
     "output_type": "display_data"
    }
   ],
   "source": [
    "fig, ax = plt.subplots(figsize=(10, 7))\n",
    "g = sns.lineplot(x = sq_max_ls, y = score_ls);\n",
    "\n",
    "ax.spines['bottom'].set_color('white')\n",
    "ax.spines['top'].set_color('white')\n",
    "ax.spines['left'].set_color('white')\n",
    "ax.spines['right'].set_color('white')\n",
    "ax.xaxis.label.set_color('white')\n",
    "ax.yaxis.label.set_color('white')\n",
    "ax.tick_params(axis='x', colors='white')\n",
    "ax.tick_params(axis='y', colors='white')\n",
    "ax.title.set_color('white')\n",
    "\n",
    "plt.title('R^2 for Range of Square Footage Maximum Values', fontsize = 15);\n",
    "plt.xlabel('Max Square Footage Included in Training Dataset', fontsize = 12);\n",
    "plt.ylabel('R^2', fontsize = 12);\n",
    "g.figure.savefig('squareft.png')"
   ]
  },
  {
   "cell_type": "code",
   "execution_count": 252,
   "metadata": {},
   "outputs": [
    {
     "name": "stdout",
     "output_type": "stream",
     "text": [
      "max_score:  0.5542189542139206 \n",
      "filter: df[df.sq_footage < 3100 ]\n"
     ]
    }
   ],
   "source": [
    "sq_max_ls = []\n",
    "score_ls = []\n",
    "df_len = []\n",
    "max_score = [0, 0]\n",
    "for sq_max in range(1000, 6000, 300):  \n",
    "    sq_max_ls.append(sq_max)\n",
    "    df_sq = df[df.sq_footage < sq_max]\n",
    "    \n",
    "    # use numerical features only\n",
    "    X = df_sq[['beds', 'sq_footage', 'year_built',\n",
    "                   'has_address_2', 'baths_incl_half', 'walk_score']]\n",
    "    y = df_sq['price']\n",
    "    \n",
    "    X_train, X_test, y_train, y_test = train_test_split(X, y, test_size = 0.2, random_state = 25)\n",
    "    \n",
    "    lr = LinearRegression()\n",
    "    score = get_cv_r2s_test(lr, X_train, y_train)\n",
    "    \n",
    "    score_ls.append(score)\n",
    "    \n",
    "    df_len.append(df_sq.shape[0])\n",
    "    if score > max_score[0]:\n",
    "        max_score = [score, sq_max]\n",
    "        \n",
    "print('max_score: ', max_score[0], '\\nfilter: df[df.sq_footage <', max_score[1],']')"
   ]
  },
  {
   "cell_type": "code",
   "execution_count": 253,
   "metadata": {},
   "outputs": [
    {
     "data": {
      "image/png": "[encoded data removed]",
      "text/plain": [
       "<Figure size 720x504 with 1 Axes>"
      ]
     },
     "metadata": {
      "needs_background": "light"
     },
     "output_type": "display_data"
    }
   ],
   "source": [
    "fig, ax = plt.subplots(figsize=(10, 7))\n",
    "g = sns.lineplot(x = sq_max_ls, y = score_ls);\n",
    "\n",
    "plt.title('R^2 for Range of Square Footage Maximum Values', fontsize = 15);\n",
    "plt.xlabel('Max Square Footage Included in Training Dataset', fontsize = 12);\n",
    "plt.ylabel('CV Mean R^2', fontsize = 12);\n",
    "g.figure.savefig('squareft.png')"
   ]
  },
  {
   "cell_type": "code",
   "execution_count": 234,
   "metadata": {},
   "outputs": [
    {
     "name": "stdout",
     "output_type": "stream",
     "text": [
      "32 datapoints dropped\n"
     ]
    }
   ],
   "source": [
    "dp_before = df.shape[0]\n",
    "df = df[df.sq_footage <= 3250].reset_index()\n",
    "dp_after = df.shape[0]\n",
    "print(dp_before - dp_after, 'datapoints dropped')"
   ]
  },
  {
   "cell_type": "code",
   "execution_count": 235,
   "metadata": {},
   "outputs": [],
   "source": [
    "X_all = df[['city',\n",
    "       'beds', 'sq_footage', 'year_built', 'laundry_type',\n",
    "       'parking_spots', 'has_address_2', 'baths_incl_half',\n",
    "       'clean_mls_types', 'walk_score']]\n",
    "\n",
    "y_all = df['price']\n",
    "\n",
    "# train/test split\n",
    "X, X_test, y, y_test = train_test_split(X_all, y_all, test_size = 0.2, random_state = 25)"
   ]
  },
  {
   "cell_type": "code",
   "execution_count": 236,
   "metadata": {},
   "outputs": [
    {
     "data": {
      "text/plain": [
       "OneHotEncoder(categories='auto', drop=None, dtype=<class 'numpy.float64'>,\n",
       "              handle_unknown='ignore', sparse=False)"
      ]
     },
     "execution_count": 236,
     "metadata": {},
     "output_type": "execute_result"
    }
   ],
   "source": [
    "# fit the ohe\n",
    "\n",
    "num_feats = ['beds', 'sq_footage', 'year_built',\n",
    "                   'has_address_2', 'baths_incl_half', 'walk_score']\n",
    "cat_feats = ['city', 'parking_spots', 'clean_mls_types', 'laundry_type']\n",
    "\n",
    "num_feats_df = X[num_feats]\n",
    "cat_feats_df = X[cat_feats]\n",
    "\n",
    "ohe = OneHotEncoder(sparse=False, handle_unknown = 'ignore')\n",
    "ohe.fit(cat_feats_df)"
   ]
  },
  {
   "cell_type": "markdown",
   "metadata": {},
   "source": [
    "---\n",
    "\n",
    "**model 1: simple linear regression**\n",
    "    \n",
    "---"
   ]
  },
  {
   "cell_type": "code",
   "execution_count": 237,
   "metadata": {},
   "outputs": [
    {
     "name": "stdout",
     "output_type": "stream",
     "text": [
      "Scores:  [0.71106968 0.58109434 0.63094499 0.62729056 0.7079267 ] \n",
      "\n",
      "Simple mean cv r^2: 0.652 +- 0.050\n",
      "None\n"
     ]
    },
    {
     "data": {
      "text/plain": [
       "LinearRegression(copy_X=True, fit_intercept=True, n_jobs=None, normalize=False)"
      ]
     },
     "execution_count": 237,
     "metadata": {},
     "output_type": "execute_result"
    }
   ],
   "source": [
    "def m1_premod(X):  \n",
    "    X_ohe = ohe_the_df(X)\n",
    "    return X_ohe\n",
    "\n",
    "lr_m1 = LinearRegression()\n",
    "\n",
    "print(get_cv_r2s(lr_m1, m1_premod(X), y))\n",
    "\n",
    "lr_m1.fit(m1_premod(X), y)"
   ]
  },
  {
   "cell_type": "markdown",
   "metadata": {},
   "source": [
    "---\n",
    "\n",
    "**model 2: feature engineering v1**\n",
    "\n",
    "---"
   ]
  },
  {
   "cell_type": "code",
   "execution_count": 238,
   "metadata": {},
   "outputs": [
    {
     "name": "stdout",
     "output_type": "stream",
     "text": [
      "Scores:  [0.70541713 0.61289127 0.64629304 0.64770014 0.67690181] \n",
      "\n",
      "Simple mean cv r^2: 0.658 +- 0.031\n",
      "None\n"
     ]
    },
    {
     "data": {
      "text/plain": [
       "LinearRegression(copy_X=True, fit_intercept=True, n_jobs=None, normalize=False)"
      ]
     },
     "execution_count": 238,
     "metadata": {},
     "output_type": "execute_result"
    }
   ],
   "source": [
    "def m2_premod(X):    \n",
    "    X_ohe = ohe_the_df(X)\n",
    "    X_eng = X_ohe.copy()\n",
    "    \n",
    "    X_eng['walk_score_sq_footage'] = X_ohe['walk_score']*X_ohe['sq_footage']\n",
    "    X_eng['walk_score_year_built'] = X_ohe['walk_score']*X_ohe['year_built']\n",
    "    X_eng['mls_type_year_built'] = X_ohe['clean_mls_types_house']*X_ohe['year_built']\n",
    "    X_eng['beds_baths'] = X_ohe['beds']*X_ohe['baths_incl_half']\n",
    "    \n",
    "    return X_eng\n",
    "\n",
    "lr_m2 = LinearRegression()\n",
    "\n",
    "print(get_cv_r2s(lr_m2, m2_premod(X), y))\n",
    "\n",
    "lr_m2.fit(m2_premod(X), y)"
   ]
  },
  {
   "cell_type": "markdown",
   "metadata": {},
   "source": [
    "---\n",
    "\n",
    "**model 3: feature engineering v2**\n",
    "    \n",
    "---"
   ]
  },
  {
   "cell_type": "code",
   "execution_count": 239,
   "metadata": {},
   "outputs": [
    {
     "name": "stdout",
     "output_type": "stream",
     "text": [
      "Scores:  [0.71557112 0.62756927 0.6489358  0.64305992 0.67954548] \n",
      "\n",
      "Simple mean cv r^2: 0.663 +- 0.031\n",
      "None\n"
     ]
    },
    {
     "data": {
      "text/plain": [
       "LinearRegression(copy_X=True, fit_intercept=True, n_jobs=None, normalize=False)"
      ]
     },
     "execution_count": 239,
     "metadata": {},
     "output_type": "execute_result"
    }
   ],
   "source": [
    "def m3_premod(X):\n",
    "    X_ohe = ohe_the_df(X)\n",
    "    X_eng = X_ohe.copy()\n",
    "    \n",
    "    X_eng['walk_score_sq_footage'] = X_ohe['walk_score']*X_ohe['sq_footage']\n",
    "    X_eng['walk_score_year_built'] = X_ohe['walk_score']*X_ohe['year_built']\n",
    "    X_eng['mls_type_year_built'] = X_ohe['clean_mls_types_house']*X_ohe['year_built']\n",
    "    X_eng['beds_baths'] = X_ohe['beds']*X_ohe['baths_incl_half']\n",
    "    \n",
    "    X_eng['beds_walk_score'] = X_ohe['walk_score']*X_ohe['beds']\n",
    "    X_eng['address_2_walk_score'] = X_ohe['walk_score']*X_ohe['has_address_2']\n",
    "    X_eng['year_built_address_2'] = X_ohe['year_built']*X_ohe['has_address_2']\n",
    "    \n",
    "    return X_eng\n",
    "\n",
    "lr_m3 = LinearRegression()\n",
    "\n",
    "print(get_cv_r2s(lr_m3, m3_premod(X), y))\n",
    "\n",
    "lr_m3.fit(m3_premod(X), y)"
   ]
  },
  {
   "cell_type": "markdown",
   "metadata": {},
   "source": [
    "---\n",
    "\n",
    "**model 4: feature engineering v3**\n",
    "\n",
    "---"
   ]
  },
  {
   "cell_type": "code",
   "execution_count": 240,
   "metadata": {},
   "outputs": [
    {
     "name": "stdout",
     "output_type": "stream",
     "text": [
      "Scores:  [0.71911968 0.62938578 0.6453155  0.64565267 0.67881843] \n",
      "\n",
      "Simple mean cv r^2: 0.664 +- 0.032\n",
      "None\n"
     ]
    },
    {
     "data": {
      "text/plain": [
       "LinearRegression(copy_X=True, fit_intercept=True, n_jobs=None, normalize=False)"
      ]
     },
     "execution_count": 240,
     "metadata": {},
     "output_type": "execute_result"
    }
   ],
   "source": [
    "def m4_premod(X):\n",
    "    X_ohe = ohe_the_df(X)\n",
    "    X_eng = X_ohe.copy()\n",
    "    \n",
    "    X_eng['walk_score_sq_footage'] = X_ohe['walk_score']*X_ohe['sq_footage']\n",
    "    X_eng['walk_score_year_built'] = X_ohe['walk_score']*X_ohe['year_built']\n",
    "    X_eng['mls_type_year_built'] = X_ohe['clean_mls_types_house']*X_ohe['year_built']\n",
    "    X_eng['beds_baths'] = X_ohe['beds']*X_ohe['baths_incl_half']\n",
    "    \n",
    "    X_eng['beds_walk_score'] = X_ohe['walk_score']*X_ohe['beds']\n",
    "    X_eng['address_2_walk_score'] = X_ohe['walk_score']*X_ohe['has_address_2']\n",
    "    X_eng['year_built_address_2'] = X_ohe['year_built']*X_ohe['has_address_2']\n",
    "    \n",
    "    X_eng['walk_score_walk_score'] = X_ohe['walk_score']**3\n",
    "    \n",
    "    '''\n",
    "    the below features were tested, but reduced the R^2\n",
    "    '''\n",
    "    # X_eng['walk_score_walk_score'] = X_ohe['walk_score']**2\n",
    "    # X_eng['beds_beds_beds'] = X_ohe['beds']**3\n",
    "    # X_eng['beds_beds_beds'] = X_ohe['beds']**3\n",
    "    \n",
    "    \n",
    "    \n",
    "    return X_eng\n",
    "\n",
    "lr_m4 = LinearRegression()\n",
    "    \n",
    "print(get_cv_r2s(lr_m4, m4_premod(X), y))\n",
    "\n",
    "lr_m4.fit(m4_premod(X), y)"
   ]
  },
  {
   "cell_type": "markdown",
   "metadata": {},
   "source": [
    "---\n",
    "\n",
    "**model 5: consolidate mls_types**\n",
    "\n",
    "---"
   ]
  },
  {
   "cell_type": "code",
   "execution_count": 241,
   "metadata": {},
   "outputs": [
    {
     "name": "stdout",
     "output_type": "stream",
     "text": [
      "Scores:  [0.71949365 0.63099229 0.64587307 0.64433738 0.6857898 ] \n",
      "\n",
      "Simple mean cv r^2: 0.665 +- 0.033\n",
      "None\n"
     ]
    },
    {
     "data": {
      "text/plain": [
       "LinearRegression(copy_X=True, fit_intercept=True, n_jobs=None, normalize=False)"
      ]
     },
     "execution_count": 241,
     "metadata": {},
     "output_type": "execute_result"
    }
   ],
   "source": [
    "def m5_premod(X):\n",
    "    '''\n",
    "    consolidate some of the mls_type columns with the hope of making fewer,  \n",
    "    but stronger mls_type features\n",
    "    '''\n",
    "    X_ohe = ohe_the_df(X)\n",
    "    X_eng = X_ohe.copy()\n",
    "    \n",
    "    X_eng['walk_score_sq_footage'] = X_ohe['walk_score']*X_ohe['sq_footage']\n",
    "    X_eng['walk_score_year_built'] = X_ohe['walk_score']*X_ohe['year_built']\n",
    "    X_eng['mls_type_year_built'] = X_ohe['clean_mls_types_house']*X_ohe['year_built']\n",
    "    X_eng['beds_baths'] = X_ohe['beds']*X_ohe['baths_incl_half']\n",
    "    \n",
    "    X_eng['beds_walk_score'] = X_ohe['walk_score']*X_ohe['beds']\n",
    "    X_eng['address_2_walk_score'] = X_ohe['walk_score']*X_ohe['has_address_2']\n",
    "    X_eng['year_built_address_2'] = X_ohe['year_built']*X_ohe['has_address_2']\n",
    "    \n",
    "    X_eng['walk_score_walk_score'] = X_ohe['walk_score']**3\n",
    "    \n",
    "    ''''''\n",
    "    \n",
    "    X_eng['clean_mls_types_house'] = X_ohe['clean_mls_types_house']\n",
    "    + X_ohe['clean_mls_types_single-family']\n",
    "    X_eng['clean_mls_types_condo'] = X_ohe['clean_mls_types_condo']\n",
    "    + X_ohe['clean_mls_types_duplex'] + X_ohe['clean_mls_types_townhouse']\n",
    "    X_eng['clean_mls_types_other'] = X_ohe['clean_mls_types_other'] \n",
    "    + X_ohe['clean_mls_types_other rental property']\n",
    "    \n",
    "    X_eng = X_eng.drop(['clean_mls_types_single-family',\n",
    "                        'clean_mls_types_duplex',\n",
    "                        'clean_mls_types_townhouse',\n",
    "                        'clean_mls_types_other rental property'\n",
    "                       ], axis = 1)\n",
    "    \n",
    "    return X_eng\n",
    "\n",
    "lr_m5 = LinearRegression()\n",
    "\n",
    "print(get_cv_r2s(lr_m5, m5_premod(X), y))\n",
    "\n",
    "lr_m5.fit(m5_premod(X), y)"
   ]
  },
  {
   "cell_type": "markdown",
   "metadata": {},
   "source": [
    "---\n",
    "\n",
    "**model 5.5: use the movie budget strategy**\n",
    "\n",
    "---"
   ]
  },
  {
   "cell_type": "code",
   "execution_count": 242,
   "metadata": {},
   "outputs": [
    {
     "name": "stdout",
     "output_type": "stream",
     "text": [
      "Scores:  [0.70212679 0.62600699 0.66963439 0.67572994 0.64256372] \n",
      "\n",
      "Simple mean cv r^2: 0.663 +- 0.027\n",
      "None\n"
     ]
    },
    {
     "data": {
      "text/plain": [
       "LinearRegression(copy_X=True, fit_intercept=True, n_jobs=None, normalize=False)"
      ]
     },
     "execution_count": 242,
     "metadata": {},
     "output_type": "execute_result"
    }
   ],
   "source": [
    "def m6_premod(X):\n",
    "    '''\n",
    "    consolidate some of the mls_type columns with the hope of making fewer,  \n",
    "    but stronger mls_type features\n",
    "    '''\n",
    "    X_ohe = ohe_the_df(X)\n",
    "    X_eng = X_ohe.copy()\n",
    "    \n",
    "    X_eng['walk_score_sq_footage'] = X_ohe['walk_score']*X_ohe['sq_footage']\n",
    "    X_eng['walk_score_year_built'] = X_ohe['walk_score']*X_ohe['year_built']\n",
    "    X_eng['mls_type_year_built'] = X_ohe['clean_mls_types_house']*X_ohe['year_built']\n",
    "    X_eng['beds_baths'] = X_ohe['beds']*X_ohe['baths_incl_half']\n",
    "    \n",
    "    X_eng['beds_walk_score'] = X_ohe['walk_score']*X_ohe['beds']\n",
    "    X_eng['address_2_walk_score'] = X_ohe['walk_score']*X_ohe['has_address_2']\n",
    "    X_eng['year_built_address_2'] = X_ohe['year_built']*X_ohe['has_address_2']\n",
    "    \n",
    "    X_eng['walk_score_walk_score'] = X_ohe['walk_score']**3\n",
    "    \n",
    "    ''''''\n",
    "    \n",
    "    X_eng['clean_mls_types_house'] = X_ohe['clean_mls_types_house']\n",
    "    + X_ohe['clean_mls_types_single-family']\n",
    "    X_eng['clean_mls_types_condo'] = X_ohe['clean_mls_types_condo']\n",
    "    + X_ohe['clean_mls_types_duplex'] + X_ohe['clean_mls_types_townhouse']\n",
    "    X_eng['clean_mls_types_other'] = X_ohe['clean_mls_types_other'] \n",
    "    + X_ohe['clean_mls_types_other rental property']\n",
    "    \n",
    "    X_eng = X_eng.drop(['clean_mls_types_single-family',\n",
    "                        'clean_mls_types_duplex',\n",
    "                        'clean_mls_types_townhouse',\n",
    "                        'clean_mls_types_other rental property'\n",
    "                       ], axis = 1)\n",
    "    \n",
    "    X_eng['more_than_3_brs'] = [1 if i > 3 else 0 for i in X_eng.beds]\n",
    "    X_eng['beds_more_than_3'] = X_eng['sq_footage'] * X_eng['more_than_3_brs']\n",
    "    \n",
    "    \n",
    "    return X_eng\n",
    "\n",
    "lr_m6 = LinearRegression()\n",
    "\n",
    "print(get_cv_r2s(lr_m6, m6_premod(X), y))\n",
    "\n",
    "lr_m6.fit(m6_premod(X), y)"
   ]
  },
  {
   "cell_type": "markdown",
   "metadata": {},
   "source": [
    "---\n",
    "\n",
    "**model 7: use model 6's preprocessing, but use lassoCV instead**\n",
    "\n",
    "---"
   ]
  },
  {
   "cell_type": "code",
   "execution_count": 243,
   "metadata": {},
   "outputs": [],
   "source": [
    "from sklearn.model_selection import train_test_split\n",
    "from sklearn.linear_model import LinearRegression, Lasso, LassoCV, Ridge, RidgeCV\n",
    "from sklearn.metrics import r2_score"
   ]
  },
  {
   "cell_type": "code",
   "execution_count": 244,
   "metadata": {},
   "outputs": [],
   "source": [
    "m7_X_tr = m5_premod(X)"
   ]
  },
  {
   "cell_type": "code",
   "execution_count": 245,
   "metadata": {},
   "outputs": [
    {
     "data": {
      "text/plain": [
       "StandardScaler(copy=True, with_mean=True, with_std=True)"
      ]
     },
     "execution_count": 245,
     "metadata": {},
     "output_type": "execute_result"
    }
   ],
   "source": [
    "s_m7 = StandardScaler()\n",
    "s_m7.fit(m7_X_tr.values)"
   ]
  },
  {
   "cell_type": "code",
   "execution_count": 246,
   "metadata": {},
   "outputs": [],
   "source": [
    "m7_X_tr = s_m7.transform(m7_X_tr.values)\n",
    "m7_X_te = s_m7.transform(m5_premod(X_test).values)"
   ]
  },
  {
   "cell_type": "code",
   "execution_count": 247,
   "metadata": {},
   "outputs": [
    {
     "data": {
      "text/plain": [
       "RidgeCV(alphas=array([1.00000000e-02, 1.04737090e-02, 1.09698580e-02, 1.14895100e-02,\n",
       "       1.20337784e-02, 1.26038293e-02, 1.32008840e-02, 1.38262217e-02,\n",
       "       1.44811823e-02, 1.51671689e-02, 1.58856513e-02, 1.66381689e-02,\n",
       "       1.74263339e-02, 1.82518349e-02, 1.91164408e-02, 2.00220037e-02,\n",
       "       2.09704640e-02, 2.19638537e-02, 2.30043012e-02, 2.40940356e-02,\n",
       "       2.52353917e-02, 2.64308149e-0...\n",
       "       4.15040476e+01, 4.34701316e+01, 4.55293507e+01, 4.76861170e+01,\n",
       "       4.99450512e+01, 5.23109931e+01, 5.47890118e+01, 5.73844165e+01,\n",
       "       6.01027678e+01, 6.29498899e+01, 6.59318827e+01, 6.90551352e+01,\n",
       "       7.23263390e+01, 7.57525026e+01, 7.93409667e+01, 8.30994195e+01,\n",
       "       8.70359136e+01, 9.11588830e+01, 9.54771611e+01, 1.00000000e+02]),\n",
       "        cv=5, fit_intercept=True, gcv_mode=None, normalize=False, scoring=None,\n",
       "        store_cv_values=False)"
      ]
     },
     "execution_count": 247,
     "metadata": {},
     "output_type": "execute_result"
    }
   ],
   "source": [
    "alphavec = 10**np.linspace(-2,2,200)\n",
    "\n",
    "ridge_m7 = RidgeCV(alphas = alphavec, cv=5)\n",
    "ridge_m7.fit(m7_X_tr, y)"
   ]
  },
  {
   "cell_type": "code",
   "execution_count": 248,
   "metadata": {},
   "outputs": [
    {
     "data": {
      "text/plain": [
       "54.78901179593945"
      ]
     },
     "execution_count": 248,
     "metadata": {},
     "output_type": "execute_result"
    }
   ],
   "source": [
    "ridge_m7.alpha_"
   ]
  },
  {
   "cell_type": "code",
   "execution_count": 249,
   "metadata": {},
   "outputs": [
    {
     "name": "stdout",
     "output_type": "stream",
     "text": [
      "rmse:  1207.88837875671\n",
      "r2:  0.6313118019822592\n"
     ]
    }
   ],
   "source": [
    "predicted_y_values = ridge_m7.predict(m7_X_te)\n",
    "\n",
    "print('rmse: ', np.sqrt(mean_squared_error(y_test, predicted_y_values)))\n",
    "print('r2: ', r2_score(y_test, predicted_y_values))"
   ]
  }
 ],
 "metadata": {
  "kernelspec": {
   "display_name": "Python 3",
   "language": "python",
   "name": "python3"
  },
  "language_info": {
   "codemirror_mode": {
    "name": "ipython",
    "version": 3
   },
   "file_extension": ".py",
   "mimetype": "text/x-python",
   "name": "python",
   "nbconvert_exporter": "python",
   "pygments_lexer": "ipython3",
   "version": "3.8.5"
  }
 },
 "nbformat": 4,
 "nbformat_minor": 4
}

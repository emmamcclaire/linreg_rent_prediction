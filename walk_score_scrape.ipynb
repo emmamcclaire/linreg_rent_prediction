{
 "cells": [
  {
   "cell_type": "code",
   "execution_count": 86,
   "metadata": {},
   "outputs": [],
   "source": [
    "from bs4 import BeautifulSoup\n",
    "import requests\n",
    "import pandas as pd\n",
    "import numpy as np\n",
    "import time, os\n",
    "from datetime import datetime\n",
    "import random\n",
    "import pickle\n",
    "from time import sleep\n",
    "from collections import defaultdict"
   ]
  },
  {
   "cell_type": "code",
   "execution_count": 87,
   "metadata": {},
   "outputs": [],
   "source": [
    "from selenium import webdriver\n",
    "from selenium.webdriver.common.keys import Keys\n",
    "\n",
    "chromedriver = \"/Applications/chromedriver\" # path to the chromedriver executable\n",
    "os.environ[\"webdriver.chrome.driver\"] = chromedriver"
   ]
  },
  {
   "cell_type": "code",
   "execution_count": 103,
   "metadata": {},
   "outputs": [],
   "source": [
    "with open('pickles/cleaned_210115_data.pickle','rb') as read_file:\n",
    "    df = pickle.load(read_file)"
   ]
  },
  {
   "cell_type": "markdown",
   "metadata": {},
   "source": [
    "*** thoughts .. maybe find walk score for neighborhood or zip code instead of address"
   ]
  },
  {
   "cell_type": "code",
   "execution_count": 4,
   "metadata": {},
   "outputs": [
    {
     "data": {
      "text/plain": [
       "['Oakland', 'Emeryville', 'San Leandro']"
      ]
     },
     "execution_count": 4,
     "metadata": {},
     "output_type": "execute_result"
    }
   ],
   "source": [
    "city_list = list(df.city.unique())\n",
    "city_list[:3]"
   ]
  },
  {
   "cell_type": "code",
   "execution_count": 5,
   "metadata": {},
   "outputs": [],
   "source": [
    "city_tags = [city.replace(' ', '_') for city in city_list]\n",
    "base_url = 'https://www.walkscore.com/CA/'\n",
    "urls = [base_url + city_tag for city_tag in city_tags]\n",
    "city_dict = dict(zip(urls, city_list))\n",
    "# response = requests.get(url)\n",
    "# print(response)\n",
    "# search_page = response.text\n",
    "# search_page_soup = BeautifulSoup(search_page, 'lxml')"
   ]
  },
  {
   "cell_type": "code",
   "execution_count": 40,
   "metadata": {},
   "outputs": [],
   "source": [
    "idx = city_list.index('Pleasanton')"
   ]
  },
  {
   "cell_type": "code",
   "execution_count": 41,
   "metadata": {},
   "outputs": [
    {
     "data": {
      "text/plain": [
       "9"
      ]
     },
     "execution_count": 41,
     "metadata": {},
     "output_type": "execute_result"
    }
   ],
   "source": [
    "idx"
   ]
  },
  {
   "cell_type": "code",
   "execution_count": 47,
   "metadata": {},
   "outputs": [
    {
     "name": "stdout",
     "output_type": "stream",
     "text": [
      "cant do it\n"
     ]
    }
   ],
   "source": [
    "try:\n",
    "    int('a')\n",
    "except:\n",
    "    print('cant do it')"
   ]
  },
  {
   "cell_type": "code",
   "execution_count": 66,
   "metadata": {},
   "outputs": [
    {
     "name": "stdout",
     "output_type": "stream",
     "text": [
      "https://www.walkscore.com/CA/Castro_Valley Castro Valley\n"
     ]
    }
   ],
   "source": [
    "url = list(city_dict.keys())[4]\n",
    "city = city_dict[url]\n",
    "print(url, city)"
   ]
  },
  {
   "cell_type": "code",
   "execution_count": 62,
   "metadata": {},
   "outputs": [],
   "source": [
    "def assemble_score_dict(neighborhood_val, score_val):\n",
    "    scores['city'].append(city_dict[url])\n",
    "    scores['neighborhood'].append(neighborhood_val)\n",
    "    scores['walk'].append(score_val)"
   ]
  },
  {
   "cell_type": "code",
   "execution_count": 70,
   "metadata": {},
   "outputs": [
    {
     "name": "stdout",
     "output_type": "stream",
     "text": [
      "button not found\n"
     ]
    }
   ],
   "source": [
    "scores = defaultdict(list)\n",
    "for url in urls[2:5]:    \n",
    "    driver = webdriver.Chrome(chromedriver)\n",
    "    driver.get(url)\n",
    "\n",
    "    time.sleep(4)\n",
    "    try:\n",
    "        button = driver.find_element_by_id('read-more-link')\n",
    "        button.click()\n",
    "    except:\n",
    "        print('button not found')\n",
    "\n",
    "    time.sleep(4)\n",
    "\n",
    "    soup = BeautifulSoup(driver.page_source, 'html.parser')\n",
    "    \n",
    "    driver.quit()\n",
    "\n",
    "    all_text = soup.text.lower()\n",
    "    \n",
    "    try:\n",
    "        for i in soup.find('tbody'):\n",
    "            neighborhood_name = i.find('a')\n",
    "            if neighborhood_name != -1:\n",
    "                assemble_score_dict(neighborhood_name.text, neighborhood_name.findNext().text)\n",
    "    except TypeError:\n",
    "        try:\n",
    "            ws_idx = all_text.find('has an average walk score of ') + len('has an average walk score of ')\n",
    "            avg_score = all_text[ws_idx: ws_idx+2]\n",
    "            assemble_score_dict('N/A', avg_score)\n",
    "\n",
    "        except:\n",
    "            assemble_score_dict('N/A', 'N/A')"
   ]
  },
  {
   "cell_type": "code",
   "execution_count": 67,
   "metadata": {},
   "outputs": [],
   "source": [
    "    scores = defaultdict(list)\n",
    "\n",
    "    all_text = soup.text.lower()\n",
    "    try:\n",
    "        for i in soup.find('tbody'):\n",
    "            neighborhood_name = i.find('a')\n",
    "            if neighborhood_name != -1:\n",
    "                assemble_score_dict(neighborhood_name.text, neighborhood_name.findNext().text)\n",
    "    except TypeError:\n",
    "        try:\n",
    "            ws_idx = all_text.find('has an average walk score of ') + len('has an average walk score of ')\n",
    "            avg_score = all_text[ws_idx: ws_idx+2]\n",
    "            assemble_score_dict('N/A', avg_score)\n",
    "\n",
    "        except:\n",
    "            assemble_score_dict('N/A', 'N/A')\n",
    "\n",
    "walk_data = pd.DataFrame.from_dict(scores)"
   ]
  },
  {
   "cell_type": "code",
   "execution_count": 83,
   "metadata": {},
   "outputs": [
    {
     "name": "stdout",
     "output_type": "stream",
     "text": [
      "['San Leandro' 'Berkeley' 'Castro Valley']\n"
     ]
    },
    {
     "data": {
      "text/html": [
       "<div>\n",
       "<style scoped>\n",
       "    .dataframe tbody tr th:only-of-type {\n",
       "        vertical-align: middle;\n",
       "    }\n",
       "\n",
       "    .dataframe tbody tr th {\n",
       "        vertical-align: top;\n",
       "    }\n",
       "\n",
       "    .dataframe thead th {\n",
       "        text-align: right;\n",
       "    }\n",
       "</style>\n",
       "<table border=\"1\" class=\"dataframe\">\n",
       "  <thead>\n",
       "    <tr style=\"text-align: right;\">\n",
       "      <th></th>\n",
       "      <th>city</th>\n",
       "      <th>neighborhood</th>\n",
       "      <th>walk</th>\n",
       "    </tr>\n",
       "  </thead>\n",
       "  <tbody>\n",
       "    <tr>\n",
       "      <th>18</th>\n",
       "      <td>Berkeley</td>\n",
       "      <td>Downtown</td>\n",
       "      <td>97</td>\n",
       "    </tr>\n",
       "    <tr>\n",
       "      <th>19</th>\n",
       "      <td>Berkeley</td>\n",
       "      <td>Southside</td>\n",
       "      <td>95</td>\n",
       "    </tr>\n",
       "    <tr>\n",
       "      <th>20</th>\n",
       "      <td>Berkeley</td>\n",
       "      <td>North Berkeley</td>\n",
       "      <td>91</td>\n",
       "    </tr>\n",
       "    <tr>\n",
       "      <th>21</th>\n",
       "      <td>Berkeley</td>\n",
       "      <td>South Berkeley</td>\n",
       "      <td>89</td>\n",
       "    </tr>\n",
       "    <tr>\n",
       "      <th>22</th>\n",
       "      <td>Berkeley</td>\n",
       "      <td>Central Berkeley</td>\n",
       "      <td>88</td>\n",
       "    </tr>\n",
       "    <tr>\n",
       "      <th>23</th>\n",
       "      <td>Berkeley</td>\n",
       "      <td>West Berkeley</td>\n",
       "      <td>87</td>\n",
       "    </tr>\n",
       "    <tr>\n",
       "      <th>24</th>\n",
       "      <td>Berkeley</td>\n",
       "      <td>Northside</td>\n",
       "      <td>85</td>\n",
       "    </tr>\n",
       "    <tr>\n",
       "      <th>25</th>\n",
       "      <td>Berkeley</td>\n",
       "      <td>Northbrae</td>\n",
       "      <td>84</td>\n",
       "    </tr>\n",
       "    <tr>\n",
       "      <th>26</th>\n",
       "      <td>Berkeley</td>\n",
       "      <td>Thousand Oaks</td>\n",
       "      <td>81</td>\n",
       "    </tr>\n",
       "    <tr>\n",
       "      <th>27</th>\n",
       "      <td>Berkeley</td>\n",
       "      <td>Panoramic Hill</td>\n",
       "      <td>66</td>\n",
       "    </tr>\n",
       "    <tr>\n",
       "      <th>28</th>\n",
       "      <td>Berkeley</td>\n",
       "      <td>University of California-Berkeley</td>\n",
       "      <td>53</td>\n",
       "    </tr>\n",
       "    <tr>\n",
       "      <th>29</th>\n",
       "      <td>Berkeley</td>\n",
       "      <td>Southampton</td>\n",
       "      <td>37</td>\n",
       "    </tr>\n",
       "    <tr>\n",
       "      <th>30</th>\n",
       "      <td>Berkeley</td>\n",
       "      <td>Cragmont</td>\n",
       "      <td>29</td>\n",
       "    </tr>\n",
       "  </tbody>\n",
       "</table>\n",
       "</div>"
      ],
      "text/plain": [
       "        city                       neighborhood walk\n",
       "18  Berkeley                           Downtown   97\n",
       "19  Berkeley                          Southside   95\n",
       "20  Berkeley                     North Berkeley   91\n",
       "21  Berkeley                     South Berkeley   89\n",
       "22  Berkeley                   Central Berkeley   88\n",
       "23  Berkeley                      West Berkeley   87\n",
       "24  Berkeley                          Northside   85\n",
       "25  Berkeley                          Northbrae   84\n",
       "26  Berkeley                      Thousand Oaks   81\n",
       "27  Berkeley                     Panoramic Hill   66\n",
       "28  Berkeley  University of California-Berkeley   53\n",
       "29  Berkeley                        Southampton   37\n",
       "30  Berkeley                           Cragmont   29"
      ]
     },
     "execution_count": 83,
     "metadata": {},
     "output_type": "execute_result"
    }
   ],
   "source": [
    "walk_data = pd.DataFrame.from_dict(scores)\n",
    "print(walk_data.city.unique())\n",
    "walk_data[walk_data.city == 'Berkeley']"
   ]
  },
  {
   "cell_type": "markdown",
   "metadata": {},
   "source": [
    "---\n",
    "\n",
    "getting walk scores by neighborhood doesn't work since walkscore.com uses different neighborhood designations than compass.com\n",
    "\n",
    "reverting to the individual address walk score idea instead\n",
    "\n",
    "---"
   ]
  },
  {
   "cell_type": "code",
   "execution_count": 134,
   "metadata": {},
   "outputs": [],
   "source": [
    "street_type = {'road':'rd', 'real':'real', 'boulevard': 'blvd', 'court': 'ct', 'avenue': 'ave', 'lane': 'ln', 'street': 'st', 'drive': 'dr', \n",
    "               'way': 'way', 'parkway':'pkwy', 'common':'common', 'parks': 'parks', 'terrace': 'terrace', 'st.': 'st',\n",
    "              'place': 'pl', 'circle': 'cir', 'loop':'loop', 'estates': 'estates', 'plaza': 'plaza', 'chavez': 'chavez',\n",
    "              'broadway':'broadway', 'park':'parks', 'east': 'ave-e', 'alley': 'alley', 'shipley':'shipley', 'mar':'mar',\n",
    "              'prenda': 'prenda'}\n",
    "addresses = [address.lower().split(' ') for address in list(df.address_1)]\n",
    "try:    \n",
    "    for address in addresses:\n",
    "        address[-1] = street_type[address[-1]]\n",
    "except KeyError:\n",
    "    pass\n",
    "url_pt1 = 'https://www.walkscore.com/score/'\n",
    "urls_pt2 = [('-').join(address) for address in addresses]\n",
    "urls_pt3 = ['-'+city.lower().replace(' ', '-')+'-ca-'+zip_code for city, zip_code in zip(list(df.city), list(df.zip))]\n",
    "urls = [url_pt1 + urls_pt2[i] + urls_pt3[i] for i in range(0, len(urls_pt2))]"
   ]
  },
  {
   "cell_type": "code",
   "execution_count": 97,
   "metadata": {},
   "outputs": [
    {
     "data": {
      "text/html": [
       "<div>\n",
       "<style scoped>\n",
       "    .dataframe tbody tr th:only-of-type {\n",
       "        vertical-align: middle;\n",
       "    }\n",
       "\n",
       "    .dataframe tbody tr th {\n",
       "        vertical-align: top;\n",
       "    }\n",
       "\n",
       "    .dataframe thead th {\n",
       "        text-align: right;\n",
       "    }\n",
       "</style>\n",
       "<table border=\"1\" class=\"dataframe\">\n",
       "  <thead>\n",
       "    <tr style=\"text-align: right;\">\n",
       "      <th></th>\n",
       "      <th>city</th>\n",
       "      <th>zip</th>\n",
       "      <th>neighborhood</th>\n",
       "      <th>address_1</th>\n",
       "      <th>address_2</th>\n",
       "      <th>price</th>\n",
       "      <th>beds</th>\n",
       "      <th>baths</th>\n",
       "      <th>half_baths</th>\n",
       "      <th>sq_footage</th>\n",
       "      <th>...</th>\n",
       "      <th>mls_type</th>\n",
       "      <th>year_built</th>\n",
       "      <th>county</th>\n",
       "      <th>laundry_type</th>\n",
       "      <th>laundry_snippet</th>\n",
       "      <th>parking_spots</th>\n",
       "      <th>parking_snippet</th>\n",
       "      <th>has_address_2</th>\n",
       "      <th>baths_incl_half</th>\n",
       "      <th>clean_mls_types</th>\n",
       "    </tr>\n",
       "  </thead>\n",
       "  <tbody>\n",
       "    <tr>\n",
       "      <th>271</th>\n",
       "      <td>San Francisco</td>\n",
       "      <td>94131</td>\n",
       "      <td>Noe Valley</td>\n",
       "      <td>3934 Cesar Chavez</td>\n",
       "      <td>N/A</td>\n",
       "      <td>6000.0</td>\n",
       "      <td>3.0</td>\n",
       "      <td>2.0</td>\n",
       "      <td>0.0</td>\n",
       "      <td>1410</td>\n",
       "      <td>...</td>\n",
       "      <td>LEASE RENTAL / Apartment</td>\n",
       "      <td>1900</td>\n",
       "      <td>San Francisco County</td>\n",
       "      <td>0</td>\n",
       "      <td>none</td>\n",
       "      <td>parking_unknown</td>\n",
       "      <td></td>\n",
       "      <td>0</td>\n",
       "      <td>2.0</td>\n",
       "      <td>apartment</td>\n",
       "    </tr>\n",
       "  </tbody>\n",
       "</table>\n",
       "<p>1 rows × 22 columns</p>\n",
       "</div>"
      ],
      "text/plain": [
       "              city    zip neighborhood          address_1 address_2   price  \\\n",
       "271  San Francisco  94131   Noe Valley  3934 Cesar Chavez       N/A  6000.0   \n",
       "\n",
       "     beds  baths  half_baths  sq_footage  ...                  mls_type  \\\n",
       "271   3.0    2.0         0.0        1410  ...  LEASE RENTAL / Apartment   \n",
       "\n",
       "    year_built                county  laundry_type laundry_snippet  \\\n",
       "271       1900  San Francisco County             0            none   \n",
       "\n",
       "       parking_spots parking_snippet has_address_2 baths_incl_half  \\\n",
       "271  parking_unknown                             0             2.0   \n",
       "\n",
       "     clean_mls_types  \n",
       "271        apartment  \n",
       "\n",
       "[1 rows x 22 columns]"
      ]
     },
     "execution_count": 97,
     "metadata": {},
     "output_type": "execute_result"
    }
   ],
   "source": [
    "df[df.address_1 == '3934 Cesar Chavez']"
   ]
  },
  {
   "cell_type": "code",
   "execution_count": null,
   "metadata": {},
   "outputs": [],
   "source": []
  }
 ],
 "metadata": {
  "kernelspec": {
   "display_name": "Python 3",
   "language": "python",
   "name": "python3"
  },
  "language_info": {
   "codemirror_mode": {
    "name": "ipython",
    "version": 3
   },
   "file_extension": ".py",
   "mimetype": "text/x-python",
   "name": "python",
   "nbconvert_exporter": "python",
   "pygments_lexer": "ipython3",
   "version": "3.8.5"
  }
 },
 "nbformat": 4,
 "nbformat_minor": 4
}

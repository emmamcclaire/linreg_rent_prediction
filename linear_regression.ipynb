{
 "cells": [
  {
   "cell_type": "code",
   "execution_count": 31,
   "metadata": {},
   "outputs": [],
   "source": [
    "import pandas as pd\n",
    "import numpy as np\n",
    "import pickle\n",
    "\n",
    "import seaborn as sns\n",
    "import matplotlib.pyplot as plt\n",
    "from sklearn.linear_model import LinearRegression\n",
    "from sklearn.linear_model import RidgeCV\n",
    "from sklearn.metrics import mean_squared_error, r2_score\n",
    "from sklearn.preprocessing import OneHotEncoder\n",
    "from sklearn.model_selection import train_test_split\n",
    "%matplotlib inline"
   ]
  },
  {
   "cell_type": "code",
   "execution_count": 113,
   "metadata": {},
   "outputs": [],
   "source": [
    "with open('pickles/cleaned_210115_data.pickle', 'rb') as read_file:\n",
    "    df = pickle.load(read_file)"
   ]
  },
  {
   "cell_type": "code",
   "execution_count": 114,
   "metadata": {},
   "outputs": [
    {
     "name": "stdout",
     "output_type": "stream",
     "text": [
      "<class 'pandas.core.frame.DataFrame'>\n",
      "Int64Index: 1146 entries, 0 to 1692\n",
      "Data columns (total 22 columns):\n",
      " #   Column           Non-Null Count  Dtype  \n",
      "---  ------           --------------  -----  \n",
      " 0   city             1146 non-null   string \n",
      " 1   zip              1146 non-null   string \n",
      " 2   neighborhood     1146 non-null   string \n",
      " 3   address_1        1146 non-null   string \n",
      " 4   address_2        1146 non-null   string \n",
      " 5   price            1146 non-null   float64\n",
      " 6   beds             1146 non-null   float64\n",
      " 7   baths            1146 non-null   float64\n",
      " 8   half_baths       1146 non-null   float64\n",
      " 9   sq_footage       1146 non-null   int64  \n",
      " 10  mls_num          1146 non-null   string \n",
      " 11  furnished        1146 non-null   string \n",
      " 12  mls_type         1146 non-null   string \n",
      " 13  year_built       1146 non-null   int64  \n",
      " 14  county           1146 non-null   string \n",
      " 15  laundry_type     1146 non-null   int64  \n",
      " 16  laundry_snippet  1146 non-null   object \n",
      " 17  parking_spots    1146 non-null   string \n",
      " 18  parking_snippet  1146 non-null   string \n",
      " 19  has_address_2    1146 non-null   int64  \n",
      " 20  baths_incl_half  1146 non-null   float64\n",
      " 21  clean_mls_types  1146 non-null   object \n",
      "dtypes: float64(5), int64(4), object(2), string(11)\n",
      "memory usage: 205.9+ KB\n"
     ]
    }
   ],
   "source": [
    "df.info()"
   ]
  },
  {
   "cell_type": "code",
   "execution_count": 115,
   "metadata": {},
   "outputs": [
    {
     "data": {
      "text/html": [
       "<div>\n",
       "<style scoped>\n",
       "    .dataframe tbody tr th:only-of-type {\n",
       "        vertical-align: middle;\n",
       "    }\n",
       "\n",
       "    .dataframe tbody tr th {\n",
       "        vertical-align: top;\n",
       "    }\n",
       "\n",
       "    .dataframe thead th {\n",
       "        text-align: right;\n",
       "    }\n",
       "</style>\n",
       "<table border=\"1\" class=\"dataframe\">\n",
       "  <thead>\n",
       "    <tr style=\"text-align: right;\">\n",
       "      <th></th>\n",
       "      <th>city</th>\n",
       "      <th>zip</th>\n",
       "      <th>neighborhood</th>\n",
       "      <th>address_1</th>\n",
       "      <th>address_2</th>\n",
       "      <th>price</th>\n",
       "      <th>beds</th>\n",
       "      <th>baths</th>\n",
       "      <th>half_baths</th>\n",
       "      <th>sq_footage</th>\n",
       "      <th>...</th>\n",
       "      <th>mls_type</th>\n",
       "      <th>year_built</th>\n",
       "      <th>county</th>\n",
       "      <th>laundry_type</th>\n",
       "      <th>laundry_snippet</th>\n",
       "      <th>parking_spots</th>\n",
       "      <th>parking_snippet</th>\n",
       "      <th>has_address_2</th>\n",
       "      <th>baths_incl_half</th>\n",
       "      <th>clean_mls_types</th>\n",
       "    </tr>\n",
       "  </thead>\n",
       "  <tbody>\n",
       "    <tr>\n",
       "      <th>0</th>\n",
       "      <td>Oakland</td>\n",
       "      <td>94618</td>\n",
       "      <td>Parkwoods</td>\n",
       "      <td>240 Caldecott Lane</td>\n",
       "      <td>Unit 314</td>\n",
       "      <td>2500.0</td>\n",
       "      <td>1.0</td>\n",
       "      <td>1.0</td>\n",
       "      <td>0.0</td>\n",
       "      <td>773</td>\n",
       "      <td>...</td>\n",
       "      <td>Apartment Lease / Apartment</td>\n",
       "      <td>1996</td>\n",
       "      <td>Alameda County</td>\n",
       "      <td>1</td>\n",
       "      <td>ppliances plus full size in-unit washer dryer....</td>\n",
       "      <td>parking</td>\n",
       "      <td>raditionalparking typedesignated on site</td>\n",
       "      <td>1</td>\n",
       "      <td>1.0</td>\n",
       "      <td>apartment</td>\n",
       "    </tr>\n",
       "    <tr>\n",
       "      <th>2</th>\n",
       "      <td>Emeryville</td>\n",
       "      <td>94608</td>\n",
       "      <td>North Hollis</td>\n",
       "      <td>1254 65th Street</td>\n",
       "      <td>N/A</td>\n",
       "      <td>4250.0</td>\n",
       "      <td>2.0</td>\n",
       "      <td>2.0</td>\n",
       "      <td>1.0</td>\n",
       "      <td>1296</td>\n",
       "      <td>...</td>\n",
       "      <td>LEASE RENTAL / Apartment/Condo for Rent</td>\n",
       "      <td>2003</td>\n",
       "      <td>Alameda County</td>\n",
       "      <td>1</td>\n",
       "      <td>woodlaundry: in closet, in unitpool type: non...</td>\n",
       "      <td>parking_unknown</td>\n",
       "      <td>es2garage/parkingspace per unit - 2, tan</td>\n",
       "      <td>0</td>\n",
       "      <td>2.5</td>\n",
       "      <td>apartment</td>\n",
       "    </tr>\n",
       "    <tr>\n",
       "      <th>4</th>\n",
       "      <td>Emeryville</td>\n",
       "      <td>94608</td>\n",
       "      <td>Watergate</td>\n",
       "      <td>4 Anchor Drive</td>\n",
       "      <td>Unit F241</td>\n",
       "      <td>2275.0</td>\n",
       "      <td>1.0</td>\n",
       "      <td>1.0</td>\n",
       "      <td>0.0</td>\n",
       "      <td>660</td>\n",
       "      <td>...</td>\n",
       "      <td>LEASE RENTAL / Apartment/Condo for Rent</td>\n",
       "      <td>1973</td>\n",
       "      <td>Alameda County</td>\n",
       "      <td>0</td>\n",
       "      <td>none</td>\n",
       "      <td>parking_unknown</td>\n",
       "      <td>es1garage/parkingspaces - assigned, spac</td>\n",
       "      <td>1</td>\n",
       "      <td>1.0</td>\n",
       "      <td>apartment</td>\n",
       "    </tr>\n",
       "    <tr>\n",
       "      <th>5</th>\n",
       "      <td>San Leandro</td>\n",
       "      <td>94578</td>\n",
       "      <td>East Oakland Terrace</td>\n",
       "      <td>1985 170th Avenue</td>\n",
       "      <td>N/A</td>\n",
       "      <td>3900.0</td>\n",
       "      <td>3.0</td>\n",
       "      <td>3.0</td>\n",
       "      <td>0.0</td>\n",
       "      <td>1814</td>\n",
       "      <td>...</td>\n",
       "      <td>LEASE RENTAL / House for Rent</td>\n",
       "      <td>1946</td>\n",
       "      <td>Alameda County</td>\n",
       "      <td>0</td>\n",
       "      <td>none</td>\n",
       "      <td>parking_unknown</td>\n",
       "      <td>es1garage/parkingattached garage, off st</td>\n",
       "      <td>0</td>\n",
       "      <td>3.0</td>\n",
       "      <td>house</td>\n",
       "    </tr>\n",
       "    <tr>\n",
       "      <th>6</th>\n",
       "      <td>Oakland</td>\n",
       "      <td>94618</td>\n",
       "      <td>Upper Rockridge</td>\n",
       "      <td>5844 Margarido Drive</td>\n",
       "      <td>N/A</td>\n",
       "      <td>8995.0</td>\n",
       "      <td>5.0</td>\n",
       "      <td>4.0</td>\n",
       "      <td>1.0</td>\n",
       "      <td>4382</td>\n",
       "      <td>...</td>\n",
       "      <td>LEASE RENTAL / House for Rent</td>\n",
       "      <td>1936</td>\n",
       "      <td>Alameda County</td>\n",
       "      <td>1</td>\n",
       "      <td>: carpet, hardwood floorslaundry: dryer, washe...</td>\n",
       "      <td>parking_unknown</td>\n",
       "      <td>es2garage/parkingcarport - 1viewbridges,</td>\n",
       "      <td>0</td>\n",
       "      <td>4.5</td>\n",
       "      <td>house</td>\n",
       "    </tr>\n",
       "  </tbody>\n",
       "</table>\n",
       "<p>5 rows × 22 columns</p>\n",
       "</div>"
      ],
      "text/plain": [
       "          city    zip          neighborhood             address_1  address_2  \\\n",
       "0      Oakland  94618             Parkwoods    240 Caldecott Lane   Unit 314   \n",
       "2   Emeryville  94608          North Hollis      1254 65th Street        N/A   \n",
       "4   Emeryville  94608             Watergate        4 Anchor Drive  Unit F241   \n",
       "5  San Leandro  94578  East Oakland Terrace     1985 170th Avenue        N/A   \n",
       "6      Oakland  94618       Upper Rockridge  5844 Margarido Drive        N/A   \n",
       "\n",
       "    price  beds  baths  half_baths  sq_footage  ...  \\\n",
       "0  2500.0   1.0    1.0         0.0         773  ...   \n",
       "2  4250.0   2.0    2.0         1.0        1296  ...   \n",
       "4  2275.0   1.0    1.0         0.0         660  ...   \n",
       "5  3900.0   3.0    3.0         0.0        1814  ...   \n",
       "6  8995.0   5.0    4.0         1.0        4382  ...   \n",
       "\n",
       "                                  mls_type year_built          county  \\\n",
       "0              Apartment Lease / Apartment       1996  Alameda County   \n",
       "2  LEASE RENTAL / Apartment/Condo for Rent       2003  Alameda County   \n",
       "4  LEASE RENTAL / Apartment/Condo for Rent       1973  Alameda County   \n",
       "5            LEASE RENTAL / House for Rent       1946  Alameda County   \n",
       "6            LEASE RENTAL / House for Rent       1936  Alameda County   \n",
       "\n",
       "   laundry_type                                    laundry_snippet  \\\n",
       "0             1  ppliances plus full size in-unit washer dryer....   \n",
       "2             1   woodlaundry: in closet, in unitpool type: non...   \n",
       "4             0                                               none   \n",
       "5             0                                               none   \n",
       "6             1  : carpet, hardwood floorslaundry: dryer, washe...   \n",
       "\n",
       "     parking_spots                           parking_snippet has_address_2  \\\n",
       "0          parking  raditionalparking typedesignated on site             1   \n",
       "2  parking_unknown  es2garage/parkingspace per unit - 2, tan             0   \n",
       "4  parking_unknown  es1garage/parkingspaces - assigned, spac             1   \n",
       "5  parking_unknown  es1garage/parkingattached garage, off st             0   \n",
       "6  parking_unknown  es2garage/parkingcarport - 1viewbridges,             0   \n",
       "\n",
       "  baths_incl_half  clean_mls_types  \n",
       "0             1.0        apartment  \n",
       "2             2.5        apartment  \n",
       "4             1.0        apartment  \n",
       "5             3.0            house  \n",
       "6             4.5            house  \n",
       "\n",
       "[5 rows x 22 columns]"
      ]
     },
     "execution_count": 115,
     "metadata": {},
     "output_type": "execute_result"
    }
   ],
   "source": [
    "df.head()"
   ]
  },
  {
   "cell_type": "code",
   "execution_count": 116,
   "metadata": {},
   "outputs": [
    {
     "data": {
      "text/plain": [
       "Index(['city', 'zip', 'neighborhood', 'address_1', 'address_2', 'price',\n",
       "       'beds', 'baths', 'half_baths', 'sq_footage', 'mls_num', 'furnished',\n",
       "       'mls_type', 'year_built', 'county', 'laundry_type', 'laundry_snippet',\n",
       "       'parking_spots', 'parking_snippet', 'has_address_2', 'baths_incl_half',\n",
       "       'clean_mls_types'],\n",
       "      dtype='object')"
      ]
     },
     "execution_count": 116,
     "metadata": {},
     "output_type": "execute_result"
    }
   ],
   "source": [
    "df.columns"
   ]
  },
  {
   "cell_type": "markdown",
   "metadata": {},
   "source": [
    "---\n",
    "\n",
    "Separate df into X and y, then establish train/test split at 80/20. Planning to use X-fold Cross-Validation.\n",
    "\n",
    "---"
   ]
  },
  {
   "cell_type": "code",
   "execution_count": 138,
   "metadata": {},
   "outputs": [],
   "source": [
    "X = df[['city',\n",
    "       'beds', 'sq_footage', 'year_built', 'county', 'laundry_type',\n",
    "       'parking_spots', 'has_address_2', 'baths_incl_half',\n",
    "       'clean_mls_types', 'mls_num']]\n",
    "\n",
    "y = df['price']"
   ]
  },
  {
   "cell_type": "code",
   "execution_count": 139,
   "metadata": {},
   "outputs": [
    {
     "name": "stdout",
     "output_type": "stream",
     "text": [
      "(916, 11) (230, 11)\n"
     ]
    }
   ],
   "source": [
    "X_train, X_test, y_train, y_test = train_test_split(X, y, test_size = 0.2, random_state = 25)\n",
    "print(X_train.shape, X_test.shape)"
   ]
  },
  {
   "cell_type": "markdown",
   "metadata": {},
   "source": [
    "---\n",
    "\n",
    "Separate numerical and string columns, then fit the ohe to the string columns.\n",
    "\n",
    "---"
   ]
  },
  {
   "cell_type": "code",
   "execution_count": 140,
   "metadata": {},
   "outputs": [],
   "source": [
    "num_feats = X_train[['beds', 'sq_footage', 'year_built', 'laundry_type',\n",
    "                   'has_address_2', 'baths_incl_half']]\n",
    "cat_feats = X_train[['city', 'county', 'parking_spots', 'clean_mls_types']]"
   ]
  },
  {
   "cell_type": "code",
   "execution_count": 144,
   "metadata": {},
   "outputs": [],
   "source": [
    "ohe = OneHotEncoder(drop='first', sparse=False)\n",
    "feature_arr = ohe.fit_transform(cat_feats)\n",
    "feature_labels = ohe.get_feature_names(['city', 'county', 'parking_spots', 'clean_mls_types'])\n",
    "cat_feats_ohe = pd.DataFrame(data = feature_arr, columns=feature_labels,\n",
    "                            index = num_feats.index)"
   ]
  },
  {
   "cell_type": "code",
   "execution_count": 146,
   "metadata": {},
   "outputs": [
    {
     "data": {
      "text/plain": [
       "(916, 67)"
      ]
     },
     "execution_count": 146,
     "metadata": {},
     "output_type": "execute_result"
    }
   ],
   "source": [
    "combined_df = pd.concat([num_feats, cat_feats_ohe], axis = 1)\n",
    "combined_df.shape"
   ]
  },
  {
   "cell_type": "code",
   "execution_count": 147,
   "metadata": {},
   "outputs": [
    {
     "data": {
      "text/plain": [
       "0.6412766676797084"
      ]
     },
     "execution_count": 147,
     "metadata": {},
     "output_type": "execute_result"
    }
   ],
   "source": [
    "lr = LinearRegression()\n",
    "\n",
    "lr.fit(combined_df, y_train)\n",
    "\n",
    "lr.score(combined_df, y_train)"
   ]
  },
  {
   "cell_type": "code",
   "execution_count": 151,
   "metadata": {},
   "outputs": [
    {
     "name": "stdout",
     "output_type": "stream",
     "text": [
      "v1: compass.com data only, no mods to data\n",
      "- - - - - - - - - - - - - - - - - - - - - - -\n",
      "rmse:  1255.5156509417643\n",
      "r2:  0.6412766676797084\n"
     ]
    }
   ],
   "source": [
    "predicted_y_values = lr.predict(combined_df)\n",
    "print('v1: compass.com data only, no mods to data')\n",
    "print('- - - - - - - - - - - - - - - - - - - - - - -')\n",
    "print('rmse: ', np.sqrt(mean_squared_error(y_train, predicted_y_values)))\n",
    "print('r2: ', r2_score(y_train, predicted_y_values))"
   ]
  },
  {
   "cell_type": "markdown",
   "metadata": {},
   "source": [
    "---\n",
    "\n",
    "next steps: \n",
    "- scraping: get walk score, crime, etc. from walkscore.com\n",
    "- modeling: try using tranformations, normalization, regularization etc.\n",
    "\n",
    "---"
   ]
  },
  {
   "cell_type": "code",
   "execution_count": null,
   "metadata": {},
   "outputs": [],
   "source": []
  }
 ],
 "metadata": {
  "kernelspec": {
   "display_name": "Python 3",
   "language": "python",
   "name": "python3"
  },
  "language_info": {
   "codemirror_mode": {
    "name": "ipython",
    "version": 3
   },
   "file_extension": ".py",
   "mimetype": "text/x-python",
   "name": "python",
   "nbconvert_exporter": "python",
   "pygments_lexer": "ipython3",
   "version": "3.8.5"
  }
 },
 "nbformat": 4,
 "nbformat_minor": 4
}

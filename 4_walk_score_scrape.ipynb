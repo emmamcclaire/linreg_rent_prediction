{
 "cells": [
  {
   "cell_type": "code",
   "execution_count": 19,
   "metadata": {},
   "outputs": [],
   "source": [
    "from bs4 import BeautifulSoup\n",
    "import requests\n",
    "import pandas as pd\n",
    "import numpy as np\n",
    "import time, os\n",
    "from datetime import datetime\n",
    "import random\n",
    "import pickle\n",
    "from time import sleep\n",
    "from collections import defaultdict\n",
    "import seaborn as sns\n",
    "import statistics"
   ]
  },
  {
   "cell_type": "code",
   "execution_count": 6,
   "metadata": {},
   "outputs": [],
   "source": [
    "with open('pickles/cleaned_210115_data_laundry_revised.pickle','rb') as read_file:\n",
    "    df = pickle.load(read_file)"
   ]
  },
  {
   "cell_type": "code",
   "execution_count": 7,
   "metadata": {},
   "outputs": [
    {
     "data": {
      "text/plain": [
       "(1209, 22)"
      ]
     },
     "execution_count": 7,
     "metadata": {},
     "output_type": "execute_result"
    }
   ],
   "source": [
    "df.shape"
   ]
  },
  {
   "cell_type": "markdown",
   "metadata": {},
   "source": [
    "---\n",
    "\n",
    "selenium for walk scores by neighborhood -- didn't end up using since walkscore.com's neighborhood  \n",
    "designations are different than those of compass.com\n",
    "\n",
    "---"
   ]
  },
  {
   "cell_type": "code",
   "execution_count": 2,
   "metadata": {},
   "outputs": [],
   "source": [
    "from selenium import webdriver\n",
    "from selenium.webdriver.common.keys import Keys\n",
    "\n",
    "chromedriver = \"/Applications/chromedriver\"\n",
    "os.environ[\"webdriver.chrome.driver\"] = chromedriver"
   ]
  },
  {
   "cell_type": "markdown",
   "metadata": {},
   "source": [
    "*** thoughts .. maybe find walk score for neighborhood or zip code instead of address"
   ]
  },
  {
   "cell_type": "code",
   "execution_count": 4,
   "metadata": {},
   "outputs": [
    {
     "data": {
      "text/plain": [
       "['Oakland', 'Emeryville', 'San Leandro']"
      ]
     },
     "execution_count": 4,
     "metadata": {},
     "output_type": "execute_result"
    }
   ],
   "source": [
    "city_list = list(df.city.unique())\n",
    "city_list[:3]"
   ]
  },
  {
   "cell_type": "code",
   "execution_count": 5,
   "metadata": {},
   "outputs": [],
   "source": [
    "city_tags = [city.replace(' ', '_') for city in city_list]\n",
    "base_url = 'https://www.walkscore.com/CA/'\n",
    "urls = [base_url + city_tag for city_tag in city_tags]\n",
    "city_dict = dict(zip(urls, city_list))\n",
    "# response = requests.get(url)\n",
    "# print(response)\n",
    "# search_page = response.text\n",
    "# search_page_soup = BeautifulSoup(search_page, 'lxml')"
   ]
  },
  {
   "cell_type": "code",
   "execution_count": 62,
   "metadata": {},
   "outputs": [],
   "source": [
    "def assemble_score_dict(neighborhood_val, score_val):\n",
    "    scores['city'].append(city_dict[url])\n",
    "    scores['neighborhood'].append(neighborhood_val)\n",
    "    scores['walk'].append(score_val)"
   ]
  },
  {
   "cell_type": "code",
   "execution_count": 70,
   "metadata": {},
   "outputs": [
    {
     "name": "stdout",
     "output_type": "stream",
     "text": [
      "button not found\n"
     ]
    }
   ],
   "source": [
    "scores = defaultdict(list)\n",
    "for url in urls[2:5]:    \n",
    "    driver = webdriver.Chrome(chromedriver)\n",
    "    driver.get(url)\n",
    "\n",
    "    time.sleep(4)\n",
    "    try:\n",
    "        button = driver.find_element_by_id('read-more-link')\n",
    "        button.click()\n",
    "    except:\n",
    "        print('button not found')\n",
    "\n",
    "    time.sleep(4)\n",
    "\n",
    "    soup = BeautifulSoup(driver.page_source, 'html.parser')\n",
    "    \n",
    "    driver.quit()\n",
    "\n",
    "    all_text = soup.text.lower()\n",
    "    \n",
    "    try:\n",
    "        for i in soup.find('tbody'):\n",
    "            neighborhood_name = i.find('a')\n",
    "            if neighborhood_name != -1:\n",
    "                assemble_score_dict(neighborhood_name.text, neighborhood_name.findNext().text)\n",
    "    except TypeError:\n",
    "        try:\n",
    "            ws_idx = all_text.find('has an average walk score of ') + len('has an average walk score of ')\n",
    "            avg_score = all_text[ws_idx: ws_idx+2]\n",
    "            assemble_score_dict('N/A', avg_score)\n",
    "\n",
    "        except:\n",
    "            assemble_score_dict('N/A', 'N/A')"
   ]
  },
  {
   "cell_type": "code",
   "execution_count": 67,
   "metadata": {},
   "outputs": [],
   "source": [
    "    scores = defaultdict(list)\n",
    "\n",
    "    all_text = soup.text.lower()\n",
    "    try:\n",
    "        for i in soup.find('tbody'):\n",
    "            neighborhood_name = i.find('a')\n",
    "            if neighborhood_name != -1:\n",
    "                assemble_score_dict(neighborhood_name.text, neighborhood_name.findNext().text)\n",
    "    except TypeError:\n",
    "        try:\n",
    "            ws_idx = all_text.find('has an average walk score of ') + len('has an average walk score of ')\n",
    "            avg_score = all_text[ws_idx: ws_idx+2]\n",
    "            assemble_score_dict('N/A', avg_score)\n",
    "\n",
    "        except:\n",
    "            assemble_score_dict('N/A', 'N/A')\n",
    "\n",
    "walk_data = pd.DataFrame.from_dict(scores)"
   ]
  },
  {
   "cell_type": "markdown",
   "metadata": {},
   "source": [
    "---\n",
    "\n",
    "**walk score by individual address**\n",
    "\n",
    "---"
   ]
  },
  {
   "cell_type": "code",
   "execution_count": 14,
   "metadata": {},
   "outputs": [],
   "source": [
    "street_type = {'road':'rd', 'real':'real', 'boulevard': 'blvd', 'court': 'ct', 'avenue': 'ave', 'lane': 'ln', 'street': 'st', 'drive': 'dr', \n",
    "               'way': 'way', 'parkway':'pkwy', 'common':'common', 'parks': 'parks', 'terrace': 'terrace', 'st.': 'st',\n",
    "              'place': 'pl', 'circle': 'cir', 'loop':'loop', 'estates': 'estates', 'plaza': 'plaza', 'chavez': 'chavez',\n",
    "              'broadway':'broadway', 'park':'parks', 'east': 'ave-e', 'alley': 'alley', 'shipley':'shipley', 'mar':'mar',\n",
    "              'prenda': 'prenda'}\n",
    "addresses = [address.lower().split(' ') for address in list(df.address_1)]\n",
    "try:    \n",
    "    for address in addresses:\n",
    "        address[-1] = street_type[address[-1]]\n",
    "except KeyError:\n",
    "    pass\n",
    "url_pt1 = 'https://www.walkscore.com/score/'\n",
    "urls_pt2 = [('-').join(address) for address in addresses]\n",
    "urls_pt3 = ['-'+city.lower().replace(' ', '-')+'-ca-'+zip_code for city, zip_code in zip(list(df.city), list(df.zip))]\n",
    "urls = [url_pt1 + urls_pt2[i] + urls_pt3[i] for i in range(0, len(urls_pt2))]"
   ]
  },
  {
   "cell_type": "code",
   "execution_count": 15,
   "metadata": {},
   "outputs": [
    {
     "name": "stdout",
     "output_type": "stream",
     "text": [
      "<Response [200]> <Response [200]> <Response [200]> <Response [200]> <Response [200]> <Response [200]> <Response [200]> <Response [200]> <Response [200]> <Response [200]> <Response [200]> <Response [200]> <Response [200]> <Response [200]> <Response [200]> <Response [200]> <Response [200]> <Response [200]> <Response [200]> <Response [200]> <Response [200]> <Response [200]> <Response [200]> <Response [200]> <Response [200]> <Response [200]> <Response [200]> <Response [200]> <Response [200]> <Response [200]> <Response [200]> <Response [200]> <Response [200]> <Response [200]> <Response [200]> <Response [200]> <Response [200]> <Response [200]> <Response [200]> <Response [200]> <Response [200]> <Response [200]> <Response [200]> <Response [200]> <Response [200]> <Response [200]> <Response [200]> <Response [200]> <Response [200]> <Response [200]> <Response [200]> <Response [200]> <Response [200]> <Response [200]> <Response [200]> <Response [200]> <Response [200]> <Response [200]> <Response [200]> <Response [200]> <Response [200]> <Response [200]> <Response [200]> <Response [200]> <Response [200]> <Response [200]> <Response [200]> <Response [200]> <Response [200]> <Response [200]> <Response [200]> <Response [200]> <Response [200]> <Response [200]> <Response [200]> <Response [200]> <Response [200]> <Response [200]> <Response [200]> <Response [200]> <Response [200]> <Response [200]> <Response [200]> <Response [200]> <Response [200]> <Response [200]> <Response [200]> <Response [200]> <Response [200]> <Response [200]> <Response [200]> <Response [200]> <Response [200]> <Response [200]> <Response [200]> <Response [200]> <Response [200]> <Response [200]> <Response [200]> <Response [200]> <Response [200]> <Response [200]> <Response [200]> <Response [200]> <Response [200]> <Response [200]> <Response [200]> <Response [200]> <Response [200]> <Response [200]> <Response [200]> <Response [200]> <Response [200]> <Response [200]> <Response [200]> <Response [200]> <Response [200]> <Response [200]> <Response [200]> <Response [200]> <Response [200]> <Response [200]> <Response [200]> <Response [200]> <Response [200]> <Response [200]> <Response [200]> <Response [200]> <Response [200]> <Response [200]> <Response [200]> <Response [200]> <Response [200]> <Response [200]> <Response [200]> <Response [200]> <Response [200]> <Response [200]> <Response [200]> <Response [200]> <Response [200]> <Response [200]> <Response [200]> <Response [200]> <Response [200]> <Response [200]> <Response [200]> <Response [200]> <Response [200]> <Response [200]> <Response [200]> <Response [200]> <Response [200]> <Response [200]> <Response [200]> <Response [200]> <Response [200]> <Response [200]> <Response [200]> <Response [200]> <Response [200]> <Response [200]> <Response [200]> <Response [200]> <Response [200]> <Response [200]> <Response [200]> <Response [200]> <Response [200]> <Response [200]> <Response [200]> <Response [200]> <Response [200]> <Response [200]> <Response [200]> <Response [200]> <Response [200]> <Response [200]> <Response [200]> <Response [200]> <Response [200]> <Response [200]> <Response [200]> <Response [200]> <Response [200]> <Response [200]> <Response [200]> <Response [200]> <Response [200]> <Response [200]> <Response [200]> <Response [200]> <Response [200]> <Response [200]> <Response [200]> <Response [200]> <Response [200]> <Response [200]> <Response [200]> <Response [200]> <Response [200]> <Response [200]> <Response [200]> <Response [200]> <Response [200]> <Response [200]> <Response [200]> <Response [200]> <Response [200]> <Response [200]> <Response [200]> <Response [200]> <Response [200]> <Response [200]> <Response [200]> <Response [200]> <Response [200]> <Response [200]> <Response [200]> <Response [200]> <Response [200]> <Response [200]> <Response [200]> <Response [200]> <Response [200]> <Response [200]> <Response [200]> <Response [200]> <Response [200]> <Response [200]> <Response [200]> <Response [200]> <Response [200]> <Response [200]> <Response [200]> <Response [200]> <Response [200]> <Response [200]> <Response [200]> <Response [200]> <Response [200]> <Response [200]> <Response [200]> <Response [200]> <Response [200]> <Response [200]> <Response [200]> <Response [200]> <Response [200]> <Response [200]> <Response [200]> <Response [200]> <Response [200]> <Response [200]> <Response [200]> <Response [200]> <Response [200]> <Response [200]> <Response [200]> <Response [200]> <Response [200]> <Response [200]> <Response [200]> <Response [200]> <Response [200]> <Response [200]> <Response [200]> <Response [200]> <Response [200]> <Response [200]> <Response [200]> <Response [200]> <Response [200]> <Response [200]> <Response [200]> <Response [200]> <Response [200]> <Response [200]> <Response [200]> <Response [200]> <Response [200]> <Response [200]> <Response [200]> <Response [200]> <Response [200]> <Response [200]> <Response [200]> <Response [200]> <Response [200]> <Response [200]> <Response [200]> <Response [200]> <Response [200]> <Response [200]> <Response [200]> <Response [200]> <Response [200]> <Response [200]> <Response [200]> <Response [200]> <Response [200]> <Response [200]> <Response [200]> <Response [200]> <Response [200]> <Response [200]> <Response [200]> <Response [200]> <Response [200]> <Response [200]> <Response [200]> <Response [200]> <Response [200]> <Response [200]> <Response [200]> <Response [200]> <Response [200]> <Response [200]> <Response [200]> <Response [200]> <Response [200]> <Response [200]> <Response [200]> <Response [200]> <Response [200]> <Response [200]> <Response [200]> <Response [200]> <Response [200]> <Response [200]> <Response [200]> <Response [200]> <Response [200]> <Response [200]> <Response [200]> <Response [200]> <Response [200]> <Response [200]> <Response [200]> <Response [200]> <Response [200]> <Response [200]> <Response [200]> <Response [200]> <Response [200]> <Response [200]> <Response [200]> <Response [200]> <Response [200]> <Response [200]> <Response [200]> <Response [200]> <Response [200]> <Response [200]> <Response [200]> <Response [200]> <Response [200]> <Response [200]> <Response [200]> <Response [200]> <Response [200]> <Response [200]> <Response [200]> <Response [200]> <Response [200]> <Response [200]> <Response [200]> <Response [200]> <Response [200]> <Response [200]> <Response [200]> <Response [200]> <Response [200]> <Response [200]> <Response [200]> <Response [200]> <Response [200]> <Response [200]> <Response [200]> <Response [200]> <Response [200]> <Response [200]> <Response [200]> <Response [200]> <Response [200]> <Response [200]> <Response [200]> <Response [200]> <Response [200]> <Response [200]> <Response [200]> <Response [200]> <Response [200]> <Response [200]> <Response [200]> <Response [200]> <Response [200]> <Response [200]> <Response [200]> <Response [200]> <Response [200]> <Response [200]> <Response [200]> <Response [200]> <Response [200]> <Response [200]> <Response [200]> <Response [200]> <Response [200]> <Response [200]> <Response [200]> <Response [200]> <Response [200]> <Response [200]> <Response [200]> <Response [200]> <Response [200]> <Response [200]> <Response [200]> <Response [200]> <Response [200]> <Response [200]> <Response [200]> <Response [200]> <Response [200]> <Response [200]> <Response [200]> <Response [200]> <Response [200]> <Response [200]> <Response [200]> <Response [200]> <Response [200]> <Response [200]> <Response [200]> <Response [200]> <Response [200]> <Response [200]> <Response [200]> <Response [200]> <Response [200]> <Response [200]> <Response [200]> <Response [200]> <Response [200]> <Response [200]> <Response [200]> <Response [200]> <Response [200]> <Response [200]> <Response [200]> <Response [200]> <Response [200]> <Response [200]> <Response [200]> <Response [200]> <Response [200]> <Response [200]> <Response [200]> <Response [200]> <Response [200]> <Response [200]> <Response [200]> <Response [200]> <Response [200]> <Response [200]> <Response [200]> <Response [200]> <Response [200]> <Response [200]> <Response [200]> <Response [200]> <Response [200]> <Response [200]> <Response [200]> <Response [200]> <Response [200]> <Response [200]> <Response [200]> <Response [200]> <Response [200]> <Response [200]> <Response [200]> <Response [200]> <Response [200]> <Response [200]> <Response [200]> <Response [200]> <Response [200]> <Response [200]> <Response [200]> <Response [200]> <Response [200]> <Response [200]> <Response [200]> <Response [200]> <Response [200]> <Response [200]> <Response [200]> <Response [200]> <Response [200]> <Response [200]> <Response [200]> <Response [200]> <Response [200]> <Response [200]> <Response [200]> <Response [200]> <Response [200]> <Response [200]> <Response [200]> <Response [200]> <Response [200]> <Response [200]> <Response [200]> <Response [200]> <Response [200]> <Response [200]> <Response [200]> <Response [200]> <Response [200]> <Response [200]> <Response [200]> <Response [200]> <Response [200]> <Response [200]> <Response [200]> <Response [200]> <Response [504]> <Response [200]> <Response [200]> <Response [200]> <Response [200]> <Response [200]> <Response [200]> <Response [200]> <Response [200]> <Response [200]> <Response [200]> <Response [200]> <Response [200]> <Response [200]> <Response [200]> <Response [200]> <Response [200]> <Response [200]> <Response [200]> <Response [200]> <Response [200]> <Response [200]> <Response [200]> <Response [200]> <Response [200]> <Response [200]> <Response [200]> <Response [200]> <Response [200]> <Response [200]> <Response [200]> <Response [200]> <Response [200]> <Response [200]> <Response [200]> <Response [200]> <Response [200]> <Response [200]> <Response [200]> <Response [200]> <Response [200]> <Response [200]> <Response [200]> <Response [200]> <Response [200]> <Response [200]> <Response [200]> <Response [200]> <Response [200]> <Response [200]> <Response [200]> <Response [200]> <Response [200]> <Response [200]> <Response [200]> <Response [200]> <Response [200]> <Response [200]> <Response [200]> <Response [200]> <Response [200]> <Response [200]> <Response [200]> <Response [200]> <Response [200]> <Response [200]> <Response [200]> <Response [200]> <Response [200]> <Response [200]> <Response [200]> <Response [200]> <Response [200]> <Response [200]> <Response [200]> <Response [200]> <Response [200]> <Response [200]> <Response [200]> <Response [200]> <Response [200]> <Response [200]> <Response [200]> <Response [200]> <Response [200]> <Response [200]> <Response [200]> <Response [200]> <Response [200]> <Response [200]> <Response [200]> <Response [200]> <Response [200]> <Response [200]> <Response [200]> <Response [200]> <Response [200]> <Response [200]> <Response [200]> <Response [200]> <Response [200]> <Response [200]> <Response [200]> <Response [200]> <Response [200]> <Response [200]> <Response [200]> <Response [200]> <Response [200]> <Response [200]> <Response [200]> <Response [200]> <Response [200]> <Response [200]> <Response [200]> <Response [200]> <Response [200]> <Response [200]> <Response [200]> <Response [200]> <Response [200]> <Response [200]> <Response [200]> <Response [200]> <Response [200]> <Response [200]> <Response [200]> <Response [200]> <Response [200]> <Response [200]> <Response [200]> <Response [200]> <Response [200]> <Response [200]> <Response [200]> <Response [200]> <Response [200]> <Response [200]> <Response [200]> <Response [200]> <Response [200]> <Response [200]> <Response [200]> <Response [200]> <Response [200]> <Response [200]> <Response [200]> <Response [200]> <Response [200]> <Response [200]> <Response [200]> <Response [200]> <Response [200]> <Response [200]> <Response [200]> <Response [200]> <Response [200]> <Response [200]> <Response [200]> <Response [200]> <Response [200]> <Response [200]> <Response [200]> <Response [200]> <Response [200]> <Response [200]> <Response [200]> <Response [200]> <Response [200]> <Response [200]> <Response [200]> <Response [200]> <Response [200]> <Response [200]> <Response [200]> <Response [200]> <Response [200]> <Response [200]> <Response [200]> <Response [200]> <Response [200]> <Response [200]> <Response [200]> <Response [200]> <Response [200]> <Response [200]> <Response [200]> <Response [200]> <Response [200]> <Response [200]> <Response [200]> <Response [200]> <Response [200]> <Response [200]> <Response [200]> <Response [200]> <Response [200]> <Response [200]> <Response [200]> <Response [200]> <Response [200]> <Response [200]> <Response [200]> <Response [200]> <Response [200]> <Response [200]> <Response [200]> <Response [200]> <Response [200]> <Response [200]> <Response [200]> <Response [200]> <Response [200]> <Response [200]> <Response [200]> <Response [200]> <Response [200]> <Response [200]> <Response [200]> <Response [200]> <Response [200]> <Response [200]> <Response [200]> <Response [200]> <Response [200]> <Response [200]> <Response [200]> <Response [200]> <Response [200]> <Response [200]> <Response [200]> <Response [200]> <Response [200]> <Response [200]> <Response [200]> <Response [200]> <Response [200]> <Response [200]> <Response [200]> <Response [200]> <Response [200]> <Response [200]> <Response [200]> <Response [200]> <Response [200]> <Response [200]> <Response [200]> <Response [200]> <Response [200]> <Response [200]> <Response [200]> <Response [200]> <Response [200]> <Response [200]> <Response [200]> <Response [200]> <Response [200]> <Response [200]> <Response [200]> <Response [200]> <Response [200]> <Response [200]> <Response [200]> <Response [200]> <Response [200]> <Response [200]> <Response [200]> <Response [200]> <Response [200]> <Response [200]> <Response [200]> <Response [200]> <Response [200]> <Response [200]> <Response [200]> <Response [200]> <Response [200]> <Response [200]> <Response [200]> <Response [200]> <Response [200]> <Response [200]> <Response [200]> <Response [200]> <Response [200]> <Response [200]> <Response [200]> <Response [200]> <Response [200]> <Response [200]> <Response [200]> <Response [200]> <Response [200]> <Response [200]> <Response [200]> <Response [200]> <Response [200]> <Response [200]> <Response [200]> <Response [200]> <Response [200]> <Response [200]> <Response [200]> <Response [200]> <Response [200]> <Response [200]> <Response [200]> <Response [200]> <Response [200]> <Response [200]> <Response [200]> <Response [200]> <Response [200]> <Response [200]> <Response [200]> <Response [200]> <Response [200]> <Response [200]> <Response [200]> <Response [200]> <Response [200]> <Response [200]> <Response [200]> <Response [200]> <Response [200]> <Response [200]> <Response [200]> <Response [200]> <Response [200]> <Response [200]> <Response [200]> <Response [200]> <Response [200]> <Response [200]> <Response [200]> <Response [200]> <Response [200]> <Response [200]> <Response [200]> <Response [200]> <Response [200]> <Response [200]> <Response [200]> <Response [200]> <Response [200]> <Response [200]> <Response [200]> <Response [200]> <Response [200]> <Response [200]> <Response [200]> <Response [200]> <Response [200]> <Response [200]> <Response [200]> <Response [200]> <Response [200]> <Response [200]> <Response [200]> <Response [200]> <Response [200]> <Response [200]> <Response [200]> <Response [200]> <Response [200]> <Response [200]> <Response [200]> <Response [200]> <Response [200]> <Response [200]> <Response [200]> <Response [200]> <Response [200]> <Response [200]> <Response [200]> <Response [200]> <Response [200]> <Response [200]> <Response [200]> <Response [200]> <Response [200]> <Response [200]> <Response [200]> <Response [200]> <Response [200]> <Response [200]> <Response [200]> <Response [200]> <Response [200]> <Response [200]> <Response [200]> <Response [200]> <Response [200]> <Response [200]> <Response [200]> <Response [200]> <Response [200]> <Response [200]> <Response [200]> <Response [200]> <Response [200]> <Response [200]> <Response [200]> <Response [200]> <Response [200]> <Response [200]> <Response [200]> <Response [200]> <Response [200]> <Response [200]> <Response [200]> <Response [200]> <Response [200]> <Response [200]> <Response [200]> <Response [200]> <Response [200]> <Response [200]> <Response [200]> <Response [200]> <Response [200]> <Response [200]> <Response [200]> <Response [200]> <Response [200]> <Response [200]> <Response [200]> <Response [200]> <Response [200]> <Response [200]> <Response [200]> <Response [200]> <Response [200]> <Response [200]> <Response [200]> <Response [200]> <Response [200]> <Response [200]> <Response [200]> <Response [200]> <Response [200]> <Response [200]> <Response [200]> <Response [200]> <Response [200]> <Response [200]> <Response [200]> <Response [200]> <Response [200]> <Response [200]> <Response [200]> <Response [200]> <Response [200]> <Response [200]> <Response [200]> <Response [200]> <Response [200]> <Response [200]> <Response [200]> <Response [200]> <Response [200]> <Response [200]> <Response [200]> <Response [200]> <Response [200]> <Response [200]> <Response [200]> <Response [200]> <Response [200]> <Response [200]> <Response [200]> <Response [200]> <Response [200]> <Response [200]> <Response [200]> <Response [200]> <Response [200]> <Response [200]> <Response [200]> <Response [200]> <Response [200]> <Response [200]> <Response [200]> <Response [200]> <Response [200]> <Response [200]> <Response [200]> <Response [200]> <Response [200]> <Response [200]> <Response [200]> <Response [200]> <Response [200]> <Response [200]> <Response [200]> <Response [200]> <Response [200]> <Response [200]> <Response [200]> <Response [200]> <Response [200]> <Response [200]> <Response [200]> <Response [200]> <Response [200]> <Response [200]> <Response [200]> <Response [200]> <Response [200]> <Response [200]> <Response [200]> <Response [200]> <Response [200]> <Response [200]> <Response [200]> <Response [200]> <Response [200]> <Response [200]> <Response [200]> <Response [200]> <Response [200]> <Response [200]> <Response [200]> <Response [200]> <Response [200]> <Response [200]> <Response [200]> <Response [200]> <Response [200]> <Response [200]> <Response [200]> <Response [200]> <Response [200]> <Response [200]> <Response [200]> <Response [200]> <Response [200]> <Response [200]> <Response [200]> <Response [200]> <Response [200]> <Response [200]> <Response [200]> <Response [200]> <Response [200]> <Response [200]> <Response [200]> <Response [200]> <Response [200]> <Response [200]> <Response [200]> <Response [200]> <Response [200]> <Response [200]> <Response [200]> <Response [200]> <Response [200]> <Response [200]> <Response [200]> <Response [200]> <Response [200]> <Response [200]> <Response [200]> <Response [200]> <Response [200]> <Response [200]> <Response [200]> <Response [200]> <Response [200]> <Response [200]> <Response [200]> <Response [200]> <Response [200]> <Response [200]> <Response [200]> <Response [200]> <Response [200]> <Response [200]> <Response [200]> <Response [200]> <Response [200]> <Response [200]> <Response [200]> <Response [200]> <Response [200]> <Response [200]> <Response [200]> <Response [200]> <Response [200]> <Response [200]> <Response [200]> <Response [200]> <Response [200]> <Response [200]> <Response [200]> <Response [200]> <Response [200]> <Response [200]> <Response [200]> <Response [200]> <Response [200]> <Response [200]> <Response [200]> <Response [200]> <Response [200]> <Response [200]> <Response [200]> <Response [200]> <Response [200]> <Response [200]> <Response [200]> <Response [200]> <Response [200]> <Response [200]> <Response [200]> <Response [200]> <Response [200]> <Response [200]> <Response [200]> <Response [200]> <Response [200]> <Response [200]> <Response [200]> <Response [200]> <Response [200]> <Response [200]> <Response [200]> <Response [200]> <Response [200]> <Response [200]> <Response [200]> <Response [200]> <Response [200]> <Response [200]> <Response [200]> <Response [200]> <Response [200]> <Response [200]> <Response [200]> <Response [200]> <Response [200]> <Response [200]> <Response [200]> <Response [200]> <Response [200]> <Response [200]> <Response [200]> <Response [200]> <Response [200]> <Response [200]> <Response [200]> <Response [200]> <Response [200]> <Response [200]> <Response [200]> <Response [200]> <Response [200]> <Response [200]> <Response [200]> <Response [200]> <Response [200]> <Response [200]> <Response [200]> <Response [200]> <Response [200]> <Response [200]> <Response [200]> <Response [200]> <Response [200]> <Response [200]> <Response [200]> <Response [200]> <Response [200]> <Response [200]> <Response [200]> <Response [200]> <Response [200]> <Response [200]> <Response [200]> <Response [200]> <Response [200]> "
     ]
    },
    {
     "data": {
      "text/plain": [
       "1209"
      ]
     },
     "execution_count": 15,
     "metadata": {},
     "output_type": "execute_result"
    }
   ],
   "source": [
    "address_soups = []\n",
    "for url in urls:\n",
    "    response = requests.get(url)\n",
    "    print(response, end = ' ')\n",
    "    address_page = response.text\n",
    "    address_page_soup = BeautifulSoup(address_page, 'lxml')\n",
    "    address_soups.append(address_page_soup)\n",
    "len(address_soups)"
   ]
  },
  {
   "cell_type": "code",
   "execution_count": 17,
   "metadata": {},
   "outputs": [
    {
     "data": {
      "text/plain": [
       "'https://www.walkscore.com/score/140-west-main-avenue-morgan-hill-ca-95037'"
      ]
     },
     "execution_count": 17,
     "metadata": {},
     "output_type": "execute_result"
    }
   ],
   "source": [
    "urls[-1]"
   ]
  },
  {
   "cell_type": "code",
   "execution_count": 8,
   "metadata": {},
   "outputs": [],
   "source": [
    "score_text = str(address_soups[550].find('div', class_='block-header-badge score-info-link'))"
   ]
  },
  {
   "cell_type": "code",
   "execution_count": 23,
   "metadata": {},
   "outputs": [],
   "source": [
    "walk_scores = []\n",
    "\n",
    "for soup in address_soups:  \n",
    "    score_text = str(soup.find(\n",
    "        'div', class_='block-header-badge score-info-link'))\n",
    "\n",
    "    score_idx = score_text.find('score/')+len('score/')\n",
    "    score_str = score_text[score_idx:score_idx+3].replace('.','').replace('p','')\n",
    "    try:\n",
    "        score_int = int(score_str)\n",
    "    except ValueError:\n",
    "        #integer flag for score not found\n",
    "        score_int = 1000\n",
    "    walk_scores.append(score_int)\n",
    "    \n",
    "median_walk_score = int(statistics.median([i for i in walk_scores if i < 101]))\n",
    "walk_score_imp = [i if i < 101 else median_walk_score for i in walk_scores]"
   ]
  },
  {
   "cell_type": "code",
   "execution_count": 24,
   "metadata": {},
   "outputs": [
    {
     "data": {
      "text/plain": [
       "array([  3,  87,  92,  55,   6,  70,  89,  97,  69, 100,  65,  86,  99,\n",
       "        88,  74,  96,  66,  54,  94,  27,  91,  77,  57,  33,  35,  47,\n",
       "        78,  28,  61,  84,  81,  50,  82,  19,  30,  37,  16,  62,  39,\n",
       "         9,  93,  67,  24,  22,  41,   1,  98,  14,  48,  52,  83,  75,\n",
       "        58,  12,  21,  73,  56,  72,  44,  63,  13,   8,  95,  76,  90,\n",
       "        85,  64,  68,  45,  80,  79,  25,  29,   2,   5,   7,  46,  60,\n",
       "        71,   4,  40,  38,  32,  59,  15,  20,  17,  53,  10,  51,   0,\n",
       "        36,  49,  42,  34,  31,  43,  26,  18,  23])"
      ]
     },
     "execution_count": 24,
     "metadata": {},
     "output_type": "execute_result"
    }
   ],
   "source": [
    "pd.Series(walk_score_imp).unique()"
   ]
  },
  {
   "cell_type": "code",
   "execution_count": 26,
   "metadata": {},
   "outputs": [
    {
     "data": {
      "text/html": [
       "<div>\n",
       "<style scoped>\n",
       "    .dataframe tbody tr th:only-of-type {\n",
       "        vertical-align: middle;\n",
       "    }\n",
       "\n",
       "    .dataframe tbody tr th {\n",
       "        vertical-align: top;\n",
       "    }\n",
       "\n",
       "    .dataframe thead th {\n",
       "        text-align: right;\n",
       "    }\n",
       "</style>\n",
       "<table border=\"1\" class=\"dataframe\">\n",
       "  <thead>\n",
       "    <tr style=\"text-align: right;\">\n",
       "      <th></th>\n",
       "      <th>city</th>\n",
       "      <th>zip</th>\n",
       "      <th>neighborhood</th>\n",
       "      <th>address_1</th>\n",
       "      <th>address_2</th>\n",
       "      <th>price</th>\n",
       "      <th>beds</th>\n",
       "      <th>baths</th>\n",
       "      <th>half_baths</th>\n",
       "      <th>sq_footage</th>\n",
       "      <th>...</th>\n",
       "      <th>year_built</th>\n",
       "      <th>county</th>\n",
       "      <th>laundry_type</th>\n",
       "      <th>laundry_snippet</th>\n",
       "      <th>parking_spots</th>\n",
       "      <th>parking_snippet</th>\n",
       "      <th>has_address_2</th>\n",
       "      <th>baths_incl_half</th>\n",
       "      <th>clean_mls_types</th>\n",
       "      <th>walk_score</th>\n",
       "    </tr>\n",
       "  </thead>\n",
       "  <tbody>\n",
       "    <tr>\n",
       "      <th>0</th>\n",
       "      <td>Oakland</td>\n",
       "      <td>94618</td>\n",
       "      <td>Parkwoods</td>\n",
       "      <td>240 Caldecott Lane</td>\n",
       "      <td>Unit 314</td>\n",
       "      <td>2500.0</td>\n",
       "      <td>1.0</td>\n",
       "      <td>1.0</td>\n",
       "      <td>0.0</td>\n",
       "      <td>773</td>\n",
       "      <td>...</td>\n",
       "      <td>1996.0</td>\n",
       "      <td>Alameda County</td>\n",
       "      <td>laundry_avail</td>\n",
       "      <td>edlaundryappl</td>\n",
       "      <td>parking</td>\n",
       "      <td>raditionalparking typedesignated on site</td>\n",
       "      <td>1</td>\n",
       "      <td>1.0</td>\n",
       "      <td>apartment</td>\n",
       "      <td>3</td>\n",
       "    </tr>\n",
       "    <tr>\n",
       "      <th>1</th>\n",
       "      <td>Albany</td>\n",
       "      <td>94706</td>\n",
       "      <td>Hillside</td>\n",
       "      <td>625 Jackson Street</td>\n",
       "      <td>Unit 2</td>\n",
       "      <td>2850.0</td>\n",
       "      <td>2.0</td>\n",
       "      <td>2.0</td>\n",
       "      <td>0.0</td>\n",
       "      <td>1112</td>\n",
       "      <td>...</td>\n",
       "      <td>1972.0</td>\n",
       "      <td>Alameda County</td>\n",
       "      <td>laundry_avail</td>\n",
       "      <td>onlaundryinbu</td>\n",
       "      <td>parking_unknown</td>\n",
       "      <td>esignated parking space in the carport.</td>\n",
       "      <td>1</td>\n",
       "      <td>2.0</td>\n",
       "      <td>other</td>\n",
       "      <td>87</td>\n",
       "    </tr>\n",
       "  </tbody>\n",
       "</table>\n",
       "<p>2 rows × 23 columns</p>\n",
       "</div>"
      ],
      "text/plain": [
       "      city    zip neighborhood           address_1 address_2   price  beds  \\\n",
       "0  Oakland  94618    Parkwoods  240 Caldecott Lane  Unit 314  2500.0   1.0   \n",
       "1   Albany  94706     Hillside  625 Jackson Street    Unit 2  2850.0   2.0   \n",
       "\n",
       "   baths  half_baths  sq_footage  ... year_built          county  \\\n",
       "0    1.0         0.0         773  ...     1996.0  Alameda County   \n",
       "1    2.0         0.0        1112  ...     1972.0  Alameda County   \n",
       "\n",
       "    laundry_type  laundry_snippet    parking_spots  \\\n",
       "0  laundry_avail    edlaundryappl          parking   \n",
       "1  laundry_avail    onlaundryinbu  parking_unknown   \n",
       "\n",
       "                            parking_snippet has_address_2 baths_incl_half  \\\n",
       "0  raditionalparking typedesignated on site             1             1.0   \n",
       "1  esignated parking space in the carport.              1             2.0   \n",
       "\n",
       "  clean_mls_types  walk_score  \n",
       "0       apartment           3  \n",
       "1           other          87  \n",
       "\n",
       "[2 rows x 23 columns]"
      ]
     },
     "execution_count": 26,
     "metadata": {},
     "output_type": "execute_result"
    }
   ],
   "source": [
    "df['walk_score'] = walk_score_imp\n",
    "df.head(2)"
   ]
  },
  {
   "cell_type": "code",
   "execution_count": 27,
   "metadata": {},
   "outputs": [],
   "source": [
    "with open('pickles/cleaned_210115_data_laundry_revised_add_ws.pickle', 'wb') as to_write:\n",
    "    pickle.dump(df, to_write)"
   ]
  }
 ],
 "metadata": {
  "kernelspec": {
   "display_name": "Python 3",
   "language": "python",
   "name": "python3"
  },
  "language_info": {
   "codemirror_mode": {
    "name": "ipython",
    "version": 3
   },
   "file_extension": ".py",
   "mimetype": "text/x-python",
   "name": "python",
   "nbconvert_exporter": "python",
   "pygments_lexer": "ipython3",
   "version": "3.8.5"
  }
 },
 "nbformat": 4,
 "nbformat_minor": 4
}
